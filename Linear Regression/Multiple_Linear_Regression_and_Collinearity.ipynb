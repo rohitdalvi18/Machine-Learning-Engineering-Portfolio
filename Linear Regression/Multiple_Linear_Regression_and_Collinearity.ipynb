{
  "cells": [
    {
      "cell_type": "markdown",
      "id": "09b859a7",
      "metadata": {
        "id": "09b859a7"
      },
      "source": [
        "# Simple and Multiple Linear Regression with Medical Costs Dataset"
      ]
    },
    {
      "cell_type": "markdown",
      "id": "227b206d",
      "metadata": {
        "id": "227b206d"
      },
      "source": [
        "### **Objective**"
      ]
    },
    {
      "cell_type": "markdown",
      "id": "e97c58d1",
      "metadata": {
        "id": "e97c58d1"
      },
      "source": [
        "- Perform **Exploratory Data Analysis (EDA)** on the medical costs dataset.\n",
        "- Implement **Simple Linear Regression** and interpret results.\n",
        "- Extend to **Multiple Linear Regression** and compare models.\n",
        "- Evaluate regression models using **R² and residual analysis**.\n",
        "- Check the **5 Assumptions of Linear Regression**.\n",
        "- Briefly introduce **regularization** as a future topic."
      ]
    },
    {
      "cell_type": "markdown",
      "id": "3c7a8f9c",
      "metadata": {
        "id": "3c7a8f9c"
      },
      "source": [
        "## **Import Required Libraries**"
      ]
    },
    {
      "cell_type": "code",
      "execution_count": 1,
      "id": "77cdafff",
      "metadata": {
        "id": "77cdafff"
      },
      "outputs": [],
      "source": [
        "import pandas as pd\n",
        "import numpy as np\n",
        "import matplotlib.pyplot as plt\n",
        "import seaborn as sns\n",
        "import statsmodels.api as sm\n",
        "from sklearn.model_selection import train_test_split\n",
        "from sklearn.linear_model import LinearRegression\n",
        "from sklearn.metrics import mean_squared_error, r2_score\n"
      ]
    },
    {
      "cell_type": "markdown",
      "id": "447763bd",
      "metadata": {
        "id": "447763bd"
      },
      "source": [
        "## **Load and Explore the Medical Costs Dataset**"
      ]
    },
    {
      "cell_type": "code",
      "execution_count": 2,
      "id": "b45c8804",
      "metadata": {
        "colab": {
          "base_uri": "https://localhost:8080/",
          "height": 206
        },
        "id": "b45c8804",
        "outputId": "2d74de87-f3a1-4a49-a410-8a1cf7e8a6c8"
      },
      "outputs": [
        {
          "data": {
            "application/vnd.google.colaboratory.intrinsic+json": {
              "summary": "{\n  \"name\": \"df\",\n  \"rows\": 1338,\n  \"fields\": [\n    {\n      \"column\": \"age\",\n      \"properties\": {\n        \"dtype\": \"number\",\n        \"std\": 14,\n        \"min\": 18,\n        \"max\": 64,\n        \"num_unique_values\": 47,\n        \"samples\": [\n          21,\n          45,\n          36\n        ],\n        \"semantic_type\": \"\",\n        \"description\": \"\"\n      }\n    },\n    {\n      \"column\": \"sex\",\n      \"properties\": {\n        \"dtype\": \"category\",\n        \"num_unique_values\": 2,\n        \"samples\": [\n          \"male\",\n          \"female\"\n        ],\n        \"semantic_type\": \"\",\n        \"description\": \"\"\n      }\n    },\n    {\n      \"column\": \"bmi\",\n      \"properties\": {\n        \"dtype\": \"number\",\n        \"std\": 6.098186911679017,\n        \"min\": 15.96,\n        \"max\": 53.13,\n        \"num_unique_values\": 548,\n        \"samples\": [\n          23.18,\n          26.885\n        ],\n        \"semantic_type\": \"\",\n        \"description\": \"\"\n      }\n    },\n    {\n      \"column\": \"children\",\n      \"properties\": {\n        \"dtype\": \"number\",\n        \"std\": 1,\n        \"min\": 0,\n        \"max\": 5,\n        \"num_unique_values\": 6,\n        \"samples\": [\n          0,\n          1\n        ],\n        \"semantic_type\": \"\",\n        \"description\": \"\"\n      }\n    },\n    {\n      \"column\": \"smoker\",\n      \"properties\": {\n        \"dtype\": \"category\",\n        \"num_unique_values\": 2,\n        \"samples\": [\n          \"no\",\n          \"yes\"\n        ],\n        \"semantic_type\": \"\",\n        \"description\": \"\"\n      }\n    },\n    {\n      \"column\": \"region\",\n      \"properties\": {\n        \"dtype\": \"category\",\n        \"num_unique_values\": 4,\n        \"samples\": [\n          \"southeast\",\n          \"northeast\"\n        ],\n        \"semantic_type\": \"\",\n        \"description\": \"\"\n      }\n    },\n    {\n      \"column\": \"charges\",\n      \"properties\": {\n        \"dtype\": \"number\",\n        \"std\": 12110.011236693994,\n        \"min\": 1121.8739,\n        \"max\": 63770.42801,\n        \"num_unique_values\": 1337,\n        \"samples\": [\n          8688.85885,\n          5708.867\n        ],\n        \"semantic_type\": \"\",\n        \"description\": \"\"\n      }\n    }\n  ]\n}",
              "type": "dataframe",
              "variable_name": "df"
            },
            "text/html": [
              "\n",
              "  <div id=\"df-4fb349ca-aa80-4f65-858d-6c26d6223651\" class=\"colab-df-container\">\n",
              "    <div>\n",
              "<style scoped>\n",
              "    .dataframe tbody tr th:only-of-type {\n",
              "        vertical-align: middle;\n",
              "    }\n",
              "\n",
              "    .dataframe tbody tr th {\n",
              "        vertical-align: top;\n",
              "    }\n",
              "\n",
              "    .dataframe thead th {\n",
              "        text-align: right;\n",
              "    }\n",
              "</style>\n",
              "<table border=\"1\" class=\"dataframe\">\n",
              "  <thead>\n",
              "    <tr style=\"text-align: right;\">\n",
              "      <th></th>\n",
              "      <th>age</th>\n",
              "      <th>sex</th>\n",
              "      <th>bmi</th>\n",
              "      <th>children</th>\n",
              "      <th>smoker</th>\n",
              "      <th>region</th>\n",
              "      <th>charges</th>\n",
              "    </tr>\n",
              "  </thead>\n",
              "  <tbody>\n",
              "    <tr>\n",
              "      <th>0</th>\n",
              "      <td>19</td>\n",
              "      <td>female</td>\n",
              "      <td>27.900</td>\n",
              "      <td>0</td>\n",
              "      <td>yes</td>\n",
              "      <td>southwest</td>\n",
              "      <td>16884.92400</td>\n",
              "    </tr>\n",
              "    <tr>\n",
              "      <th>1</th>\n",
              "      <td>18</td>\n",
              "      <td>male</td>\n",
              "      <td>33.770</td>\n",
              "      <td>1</td>\n",
              "      <td>no</td>\n",
              "      <td>southeast</td>\n",
              "      <td>1725.55230</td>\n",
              "    </tr>\n",
              "    <tr>\n",
              "      <th>2</th>\n",
              "      <td>28</td>\n",
              "      <td>male</td>\n",
              "      <td>33.000</td>\n",
              "      <td>3</td>\n",
              "      <td>no</td>\n",
              "      <td>southeast</td>\n",
              "      <td>4449.46200</td>\n",
              "    </tr>\n",
              "    <tr>\n",
              "      <th>3</th>\n",
              "      <td>33</td>\n",
              "      <td>male</td>\n",
              "      <td>22.705</td>\n",
              "      <td>0</td>\n",
              "      <td>no</td>\n",
              "      <td>northwest</td>\n",
              "      <td>21984.47061</td>\n",
              "    </tr>\n",
              "    <tr>\n",
              "      <th>4</th>\n",
              "      <td>32</td>\n",
              "      <td>male</td>\n",
              "      <td>28.880</td>\n",
              "      <td>0</td>\n",
              "      <td>no</td>\n",
              "      <td>northwest</td>\n",
              "      <td>3866.85520</td>\n",
              "    </tr>\n",
              "  </tbody>\n",
              "</table>\n",
              "</div>\n",
              "    <div class=\"colab-df-buttons\">\n",
              "\n",
              "  <div class=\"colab-df-container\">\n",
              "    <button class=\"colab-df-convert\" onclick=\"convertToInteractive('df-4fb349ca-aa80-4f65-858d-6c26d6223651')\"\n",
              "            title=\"Convert this dataframe to an interactive table.\"\n",
              "            style=\"display:none;\">\n",
              "\n",
              "  <svg xmlns=\"http://www.w3.org/2000/svg\" height=\"24px\" viewBox=\"0 -960 960 960\">\n",
              "    <path d=\"M120-120v-720h720v720H120Zm60-500h600v-160H180v160Zm220 220h160v-160H400v160Zm0 220h160v-160H400v160ZM180-400h160v-160H180v160Zm440 0h160v-160H620v160ZM180-180h160v-160H180v160Zm440 0h160v-160H620v160Z\"/>\n",
              "  </svg>\n",
              "    </button>\n",
              "\n",
              "  <style>\n",
              "    .colab-df-container {\n",
              "      display:flex;\n",
              "      gap: 12px;\n",
              "    }\n",
              "\n",
              "    .colab-df-convert {\n",
              "      background-color: #E8F0FE;\n",
              "      border: none;\n",
              "      border-radius: 50%;\n",
              "      cursor: pointer;\n",
              "      display: none;\n",
              "      fill: #1967D2;\n",
              "      height: 32px;\n",
              "      padding: 0 0 0 0;\n",
              "      width: 32px;\n",
              "    }\n",
              "\n",
              "    .colab-df-convert:hover {\n",
              "      background-color: #E2EBFA;\n",
              "      box-shadow: 0px 1px 2px rgba(60, 64, 67, 0.3), 0px 1px 3px 1px rgba(60, 64, 67, 0.15);\n",
              "      fill: #174EA6;\n",
              "    }\n",
              "\n",
              "    .colab-df-buttons div {\n",
              "      margin-bottom: 4px;\n",
              "    }\n",
              "\n",
              "    [theme=dark] .colab-df-convert {\n",
              "      background-color: #3B4455;\n",
              "      fill: #D2E3FC;\n",
              "    }\n",
              "\n",
              "    [theme=dark] .colab-df-convert:hover {\n",
              "      background-color: #434B5C;\n",
              "      box-shadow: 0px 1px 3px 1px rgba(0, 0, 0, 0.15);\n",
              "      filter: drop-shadow(0px 1px 2px rgba(0, 0, 0, 0.3));\n",
              "      fill: #FFFFFF;\n",
              "    }\n",
              "  </style>\n",
              "\n",
              "    <script>\n",
              "      const buttonEl =\n",
              "        document.querySelector('#df-4fb349ca-aa80-4f65-858d-6c26d6223651 button.colab-df-convert');\n",
              "      buttonEl.style.display =\n",
              "        google.colab.kernel.accessAllowed ? 'block' : 'none';\n",
              "\n",
              "      async function convertToInteractive(key) {\n",
              "        const element = document.querySelector('#df-4fb349ca-aa80-4f65-858d-6c26d6223651');\n",
              "        const dataTable =\n",
              "          await google.colab.kernel.invokeFunction('convertToInteractive',\n",
              "                                                    [key], {});\n",
              "        if (!dataTable) return;\n",
              "\n",
              "        const docLinkHtml = 'Like what you see? Visit the ' +\n",
              "          '<a target=\"_blank\" href=https://colab.research.google.com/notebooks/data_table.ipynb>data table notebook</a>'\n",
              "          + ' to learn more about interactive tables.';\n",
              "        element.innerHTML = '';\n",
              "        dataTable['output_type'] = 'display_data';\n",
              "        await google.colab.output.renderOutput(dataTable, element);\n",
              "        const docLink = document.createElement('div');\n",
              "        docLink.innerHTML = docLinkHtml;\n",
              "        element.appendChild(docLink);\n",
              "      }\n",
              "    </script>\n",
              "  </div>\n",
              "\n",
              "\n",
              "<div id=\"df-c42c54cd-14df-465c-a2ba-982007c748f2\">\n",
              "  <button class=\"colab-df-quickchart\" onclick=\"quickchart('df-c42c54cd-14df-465c-a2ba-982007c748f2')\"\n",
              "            title=\"Suggest charts\"\n",
              "            style=\"display:none;\">\n",
              "\n",
              "<svg xmlns=\"http://www.w3.org/2000/svg\" height=\"24px\"viewBox=\"0 0 24 24\"\n",
              "     width=\"24px\">\n",
              "    <g>\n",
              "        <path d=\"M19 3H5c-1.1 0-2 .9-2 2v14c0 1.1.9 2 2 2h14c1.1 0 2-.9 2-2V5c0-1.1-.9-2-2-2zM9 17H7v-7h2v7zm4 0h-2V7h2v10zm4 0h-2v-4h2v4z\"/>\n",
              "    </g>\n",
              "</svg>\n",
              "  </button>\n",
              "\n",
              "<style>\n",
              "  .colab-df-quickchart {\n",
              "      --bg-color: #E8F0FE;\n",
              "      --fill-color: #1967D2;\n",
              "      --hover-bg-color: #E2EBFA;\n",
              "      --hover-fill-color: #174EA6;\n",
              "      --disabled-fill-color: #AAA;\n",
              "      --disabled-bg-color: #DDD;\n",
              "  }\n",
              "\n",
              "  [theme=dark] .colab-df-quickchart {\n",
              "      --bg-color: #3B4455;\n",
              "      --fill-color: #D2E3FC;\n",
              "      --hover-bg-color: #434B5C;\n",
              "      --hover-fill-color: #FFFFFF;\n",
              "      --disabled-bg-color: #3B4455;\n",
              "      --disabled-fill-color: #666;\n",
              "  }\n",
              "\n",
              "  .colab-df-quickchart {\n",
              "    background-color: var(--bg-color);\n",
              "    border: none;\n",
              "    border-radius: 50%;\n",
              "    cursor: pointer;\n",
              "    display: none;\n",
              "    fill: var(--fill-color);\n",
              "    height: 32px;\n",
              "    padding: 0;\n",
              "    width: 32px;\n",
              "  }\n",
              "\n",
              "  .colab-df-quickchart:hover {\n",
              "    background-color: var(--hover-bg-color);\n",
              "    box-shadow: 0 1px 2px rgba(60, 64, 67, 0.3), 0 1px 3px 1px rgba(60, 64, 67, 0.15);\n",
              "    fill: var(--button-hover-fill-color);\n",
              "  }\n",
              "\n",
              "  .colab-df-quickchart-complete:disabled,\n",
              "  .colab-df-quickchart-complete:disabled:hover {\n",
              "    background-color: var(--disabled-bg-color);\n",
              "    fill: var(--disabled-fill-color);\n",
              "    box-shadow: none;\n",
              "  }\n",
              "\n",
              "  .colab-df-spinner {\n",
              "    border: 2px solid var(--fill-color);\n",
              "    border-color: transparent;\n",
              "    border-bottom-color: var(--fill-color);\n",
              "    animation:\n",
              "      spin 1s steps(1) infinite;\n",
              "  }\n",
              "\n",
              "  @keyframes spin {\n",
              "    0% {\n",
              "      border-color: transparent;\n",
              "      border-bottom-color: var(--fill-color);\n",
              "      border-left-color: var(--fill-color);\n",
              "    }\n",
              "    20% {\n",
              "      border-color: transparent;\n",
              "      border-left-color: var(--fill-color);\n",
              "      border-top-color: var(--fill-color);\n",
              "    }\n",
              "    30% {\n",
              "      border-color: transparent;\n",
              "      border-left-color: var(--fill-color);\n",
              "      border-top-color: var(--fill-color);\n",
              "      border-right-color: var(--fill-color);\n",
              "    }\n",
              "    40% {\n",
              "      border-color: transparent;\n",
              "      border-right-color: var(--fill-color);\n",
              "      border-top-color: var(--fill-color);\n",
              "    }\n",
              "    60% {\n",
              "      border-color: transparent;\n",
              "      border-right-color: var(--fill-color);\n",
              "    }\n",
              "    80% {\n",
              "      border-color: transparent;\n",
              "      border-right-color: var(--fill-color);\n",
              "      border-bottom-color: var(--fill-color);\n",
              "    }\n",
              "    90% {\n",
              "      border-color: transparent;\n",
              "      border-bottom-color: var(--fill-color);\n",
              "    }\n",
              "  }\n",
              "</style>\n",
              "\n",
              "  <script>\n",
              "    async function quickchart(key) {\n",
              "      const quickchartButtonEl =\n",
              "        document.querySelector('#' + key + ' button');\n",
              "      quickchartButtonEl.disabled = true;  // To prevent multiple clicks.\n",
              "      quickchartButtonEl.classList.add('colab-df-spinner');\n",
              "      try {\n",
              "        const charts = await google.colab.kernel.invokeFunction(\n",
              "            'suggestCharts', [key], {});\n",
              "      } catch (error) {\n",
              "        console.error('Error during call to suggestCharts:', error);\n",
              "      }\n",
              "      quickchartButtonEl.classList.remove('colab-df-spinner');\n",
              "      quickchartButtonEl.classList.add('colab-df-quickchart-complete');\n",
              "    }\n",
              "    (() => {\n",
              "      let quickchartButtonEl =\n",
              "        document.querySelector('#df-c42c54cd-14df-465c-a2ba-982007c748f2 button');\n",
              "      quickchartButtonEl.style.display =\n",
              "        google.colab.kernel.accessAllowed ? 'block' : 'none';\n",
              "    })();\n",
              "  </script>\n",
              "</div>\n",
              "\n",
              "    </div>\n",
              "  </div>\n"
            ],
            "text/plain": [
              "   age     sex     bmi  children smoker     region      charges\n",
              "0   19  female  27.900         0    yes  southwest  16884.92400\n",
              "1   18    male  33.770         1     no  southeast   1725.55230\n",
              "2   28    male  33.000         3     no  southeast   4449.46200\n",
              "3   33    male  22.705         0     no  northwest  21984.47061\n",
              "4   32    male  28.880         0     no  northwest   3866.85520"
            ]
          },
          "execution_count": 2,
          "metadata": {},
          "output_type": "execute_result"
        }
      ],
      "source": [
        "# Load dataset\n",
        "url = 'https://raw.githubusercontent.com/stedy/Machine-Learning-with-R-datasets/master/insurance.csv'\n",
        "df = pd.read_csv(url)\n",
        "\n",
        "# Display first few rows\n",
        "df.head()"
      ]
    },
    {
      "cell_type": "markdown",
      "id": "68f0e2c8",
      "metadata": {
        "id": "68f0e2c8"
      },
      "source": [
        "## **Exploratory Data Analysis (EDA)**"
      ]
    },
    {
      "cell_type": "code",
      "execution_count": 3,
      "id": "3c04679e",
      "metadata": {
        "colab": {
          "base_uri": "https://localhost:8080/"
        },
        "id": "3c04679e",
        "outputId": "0fdbdc3a-545d-4873-892b-a0852ac68f15"
      },
      "outputs": [
        {
          "name": "stdout",
          "output_type": "stream",
          "text": [
            "<class 'pandas.core.frame.DataFrame'>\n",
            "RangeIndex: 1338 entries, 0 to 1337\n",
            "Data columns (total 7 columns):\n",
            " #   Column    Non-Null Count  Dtype  \n",
            "---  ------    --------------  -----  \n",
            " 0   age       1338 non-null   int64  \n",
            " 1   sex       1338 non-null   object \n",
            " 2   bmi       1338 non-null   float64\n",
            " 3   children  1338 non-null   int64  \n",
            " 4   smoker    1338 non-null   object \n",
            " 5   region    1338 non-null   object \n",
            " 6   charges   1338 non-null   float64\n",
            "dtypes: float64(2), int64(2), object(3)\n",
            "memory usage: 73.3+ KB\n",
            "None\n",
            "               age          bmi     children       charges\n",
            "count  1338.000000  1338.000000  1338.000000   1338.000000\n",
            "mean     39.207025    30.663397     1.094918  13270.422265\n",
            "std      14.049960     6.098187     1.205493  12110.011237\n",
            "min      18.000000    15.960000     0.000000   1121.873900\n",
            "25%      27.000000    26.296250     0.000000   4740.287150\n",
            "50%      39.000000    30.400000     1.000000   9382.033000\n",
            "75%      51.000000    34.693750     2.000000  16639.912515\n",
            "max      64.000000    53.130000     5.000000  63770.428010\n"
          ]
        }
      ],
      "source": [
        "# Check for missing values and data types\n",
        "print(df.info())\n",
        "print(df.describe())"
      ]
    },
    {
      "cell_type": "markdown",
      "id": "eiyZY4PBzXKG",
      "metadata": {
        "id": "eiyZY4PBzXKG"
      },
      "source": [
        "### **Understanding Our Data: Data Types and Variables**\n",
        "From the output of `df.info()`, we can see that our dataset consists of **both numerical and categorical variables**:\n",
        "\n",
        "- **Numerical Variables (int/float):**\n",
        "  - `age`: Age of the individual.\n",
        "  - `bmi`: Body Mass Index, a measure of body fat based on height and weight.\n",
        "  - `children`: Number of children/dependents.\n",
        "  - `charges`: Medical insurance cost (our target variable).\n",
        "\n",
        "- **Categorical Variables (object):**\n",
        "  - `sex`: Male or Female.\n",
        "  - `smoker`: Yes or No.\n",
        "  - `region`: One of four geographical regions.\n",
        "\n",
        "#### **Why Do Categorical Variables Matter?**\n",
        "Linear regression requires **numerical inputs**, but we have categorical variables (`sex`, `smoker`, `region`). If we ignore these, we might **lose valuable information** that could improve our model.\n",
        "\n",
        "#### **How Can We Use Categorical Data in Regression?**\n",
        "We can use **one-hot encoding** to convert categorical variables into **binary (0/1) variables**, allowing us to include them in regression.\n",
        "\n",
        "- For example, `smoker` (Yes/No) becomes:\n",
        "  - `smoker_yes = 1` if the person smokes.\n",
        "  - `smoker_yes = 0` if the person does not smoke.\n",
        "\n",
        "- For `region` (Northwest, Southwest, Northeast, Southeast), we create **three binary columns** (`drop_first=True` avoids redundancy):\n",
        "  - `region_northwest = 1` if in Northwest, else `0`.\n",
        "  - `region_southeast = 1` if in Southeast, else `0`.\n",
        "  - `region_southwest = 1` if in Southwest, else `0`.\n",
        "\n",
        "#### **Why is This Okay for Linear Regression?**\n",
        "Unlike continuous variables (e.g., `bmi`), one-hot encoded categorical variables are **binary** (0 or 1). This means:\n",
        "- The regression model interprets them as **on/off switches** rather than numerical scales.\n",
        "- The **slope coefficient** tells us the expected change in `charges` when switching from 0 → 1 (e.g., from non-smoker to smoker), **holding all else constant**.\n",
        "- This does **not** violate linear regression assumptions because we are **not treating categories as ordered numbers** (e.g., we don't assign `male = 1, female = 2`, which would incorrectly imply ranking).\n",
        "\n",
        "\n",
        "\n",
        "\n",
        "\n",
        "\n"
      ]
    },
    {
      "cell_type": "code",
      "execution_count": 4,
      "id": "MjlHVmMyzg0C",
      "metadata": {
        "colab": {
          "base_uri": "https://localhost:8080/",
          "height": 363
        },
        "id": "MjlHVmMyzg0C",
        "outputId": "ec1c9dd8-6477-4333-824c-51c330f8d6bb"
      },
      "outputs": [
        {
          "data": {
            "application/vnd.google.colaboratory.intrinsic+json": {
              "summary": "{\n  \"name\": \"df_encoded\",\n  \"rows\": 1338,\n  \"fields\": [\n    {\n      \"column\": \"age\",\n      \"properties\": {\n        \"dtype\": \"number\",\n        \"std\": 14,\n        \"min\": 18,\n        \"max\": 64,\n        \"num_unique_values\": 47,\n        \"samples\": [\n          21,\n          45,\n          36\n        ],\n        \"semantic_type\": \"\",\n        \"description\": \"\"\n      }\n    },\n    {\n      \"column\": \"bmi\",\n      \"properties\": {\n        \"dtype\": \"number\",\n        \"std\": 6,\n        \"min\": 15,\n        \"max\": 53,\n        \"num_unique_values\": 38,\n        \"samples\": [\n          46,\n          52,\n          25\n        ],\n        \"semantic_type\": \"\",\n        \"description\": \"\"\n      }\n    },\n    {\n      \"column\": \"children\",\n      \"properties\": {\n        \"dtype\": \"number\",\n        \"std\": 1,\n        \"min\": 0,\n        \"max\": 5,\n        \"num_unique_values\": 6,\n        \"samples\": [\n          0,\n          1,\n          4\n        ],\n        \"semantic_type\": \"\",\n        \"description\": \"\"\n      }\n    },\n    {\n      \"column\": \"charges\",\n      \"properties\": {\n        \"dtype\": \"number\",\n        \"std\": 12110,\n        \"min\": 1121,\n        \"max\": 63770,\n        \"num_unique_values\": 1284,\n        \"samples\": [\n          11931,\n          11658,\n          33475\n        ],\n        \"semantic_type\": \"\",\n        \"description\": \"\"\n      }\n    },\n    {\n      \"column\": \"sex_male\",\n      \"properties\": {\n        \"dtype\": \"number\",\n        \"std\": 0,\n        \"min\": 0,\n        \"max\": 1,\n        \"num_unique_values\": 2,\n        \"samples\": [\n          1,\n          0\n        ],\n        \"semantic_type\": \"\",\n        \"description\": \"\"\n      }\n    },\n    {\n      \"column\": \"smoker_yes\",\n      \"properties\": {\n        \"dtype\": \"number\",\n        \"std\": 0,\n        \"min\": 0,\n        \"max\": 1,\n        \"num_unique_values\": 2,\n        \"samples\": [\n          0,\n          1\n        ],\n        \"semantic_type\": \"\",\n        \"description\": \"\"\n      }\n    },\n    {\n      \"column\": \"region_northwest\",\n      \"properties\": {\n        \"dtype\": \"number\",\n        \"std\": 0,\n        \"min\": 0,\n        \"max\": 1,\n        \"num_unique_values\": 2,\n        \"samples\": [\n          1,\n          0\n        ],\n        \"semantic_type\": \"\",\n        \"description\": \"\"\n      }\n    },\n    {\n      \"column\": \"region_southeast\",\n      \"properties\": {\n        \"dtype\": \"number\",\n        \"std\": 0,\n        \"min\": 0,\n        \"max\": 1,\n        \"num_unique_values\": 2,\n        \"samples\": [\n          1,\n          0\n        ],\n        \"semantic_type\": \"\",\n        \"description\": \"\"\n      }\n    },\n    {\n      \"column\": \"region_southwest\",\n      \"properties\": {\n        \"dtype\": \"number\",\n        \"std\": 0,\n        \"min\": 0,\n        \"max\": 1,\n        \"num_unique_values\": 2,\n        \"samples\": [\n          0,\n          1\n        ],\n        \"semantic_type\": \"\",\n        \"description\": \"\"\n      }\n    }\n  ]\n}",
              "type": "dataframe",
              "variable_name": "df_encoded"
            },
            "text/html": [
              "\n",
              "  <div id=\"df-b5affb52-69ca-408d-879d-a11cf9f8def7\" class=\"colab-df-container\">\n",
              "    <div>\n",
              "<style scoped>\n",
              "    .dataframe tbody tr th:only-of-type {\n",
              "        vertical-align: middle;\n",
              "    }\n",
              "\n",
              "    .dataframe tbody tr th {\n",
              "        vertical-align: top;\n",
              "    }\n",
              "\n",
              "    .dataframe thead th {\n",
              "        text-align: right;\n",
              "    }\n",
              "</style>\n",
              "<table border=\"1\" class=\"dataframe\">\n",
              "  <thead>\n",
              "    <tr style=\"text-align: right;\">\n",
              "      <th></th>\n",
              "      <th>age</th>\n",
              "      <th>bmi</th>\n",
              "      <th>children</th>\n",
              "      <th>charges</th>\n",
              "      <th>sex_male</th>\n",
              "      <th>smoker_yes</th>\n",
              "      <th>region_northwest</th>\n",
              "      <th>region_southeast</th>\n",
              "      <th>region_southwest</th>\n",
              "    </tr>\n",
              "  </thead>\n",
              "  <tbody>\n",
              "    <tr>\n",
              "      <th>0</th>\n",
              "      <td>19</td>\n",
              "      <td>27</td>\n",
              "      <td>0</td>\n",
              "      <td>16884</td>\n",
              "      <td>0</td>\n",
              "      <td>1</td>\n",
              "      <td>0</td>\n",
              "      <td>0</td>\n",
              "      <td>1</td>\n",
              "    </tr>\n",
              "    <tr>\n",
              "      <th>1</th>\n",
              "      <td>18</td>\n",
              "      <td>33</td>\n",
              "      <td>1</td>\n",
              "      <td>1725</td>\n",
              "      <td>1</td>\n",
              "      <td>0</td>\n",
              "      <td>0</td>\n",
              "      <td>1</td>\n",
              "      <td>0</td>\n",
              "    </tr>\n",
              "    <tr>\n",
              "      <th>2</th>\n",
              "      <td>28</td>\n",
              "      <td>33</td>\n",
              "      <td>3</td>\n",
              "      <td>4449</td>\n",
              "      <td>1</td>\n",
              "      <td>0</td>\n",
              "      <td>0</td>\n",
              "      <td>1</td>\n",
              "      <td>0</td>\n",
              "    </tr>\n",
              "    <tr>\n",
              "      <th>3</th>\n",
              "      <td>33</td>\n",
              "      <td>22</td>\n",
              "      <td>0</td>\n",
              "      <td>21984</td>\n",
              "      <td>1</td>\n",
              "      <td>0</td>\n",
              "      <td>1</td>\n",
              "      <td>0</td>\n",
              "      <td>0</td>\n",
              "    </tr>\n",
              "    <tr>\n",
              "      <th>4</th>\n",
              "      <td>32</td>\n",
              "      <td>28</td>\n",
              "      <td>0</td>\n",
              "      <td>3866</td>\n",
              "      <td>1</td>\n",
              "      <td>0</td>\n",
              "      <td>1</td>\n",
              "      <td>0</td>\n",
              "      <td>0</td>\n",
              "    </tr>\n",
              "    <tr>\n",
              "      <th>5</th>\n",
              "      <td>31</td>\n",
              "      <td>25</td>\n",
              "      <td>0</td>\n",
              "      <td>3756</td>\n",
              "      <td>0</td>\n",
              "      <td>0</td>\n",
              "      <td>0</td>\n",
              "      <td>1</td>\n",
              "      <td>0</td>\n",
              "    </tr>\n",
              "    <tr>\n",
              "      <th>6</th>\n",
              "      <td>46</td>\n",
              "      <td>33</td>\n",
              "      <td>1</td>\n",
              "      <td>8240</td>\n",
              "      <td>0</td>\n",
              "      <td>0</td>\n",
              "      <td>0</td>\n",
              "      <td>1</td>\n",
              "      <td>0</td>\n",
              "    </tr>\n",
              "    <tr>\n",
              "      <th>7</th>\n",
              "      <td>37</td>\n",
              "      <td>27</td>\n",
              "      <td>3</td>\n",
              "      <td>7281</td>\n",
              "      <td>0</td>\n",
              "      <td>0</td>\n",
              "      <td>1</td>\n",
              "      <td>0</td>\n",
              "      <td>0</td>\n",
              "    </tr>\n",
              "    <tr>\n",
              "      <th>8</th>\n",
              "      <td>37</td>\n",
              "      <td>29</td>\n",
              "      <td>2</td>\n",
              "      <td>6406</td>\n",
              "      <td>1</td>\n",
              "      <td>0</td>\n",
              "      <td>0</td>\n",
              "      <td>0</td>\n",
              "      <td>0</td>\n",
              "    </tr>\n",
              "    <tr>\n",
              "      <th>9</th>\n",
              "      <td>60</td>\n",
              "      <td>25</td>\n",
              "      <td>0</td>\n",
              "      <td>28923</td>\n",
              "      <td>0</td>\n",
              "      <td>0</td>\n",
              "      <td>1</td>\n",
              "      <td>0</td>\n",
              "      <td>0</td>\n",
              "    </tr>\n",
              "  </tbody>\n",
              "</table>\n",
              "</div>\n",
              "    <div class=\"colab-df-buttons\">\n",
              "\n",
              "  <div class=\"colab-df-container\">\n",
              "    <button class=\"colab-df-convert\" onclick=\"convertToInteractive('df-b5affb52-69ca-408d-879d-a11cf9f8def7')\"\n",
              "            title=\"Convert this dataframe to an interactive table.\"\n",
              "            style=\"display:none;\">\n",
              "\n",
              "  <svg xmlns=\"http://www.w3.org/2000/svg\" height=\"24px\" viewBox=\"0 -960 960 960\">\n",
              "    <path d=\"M120-120v-720h720v720H120Zm60-500h600v-160H180v160Zm220 220h160v-160H400v160Zm0 220h160v-160H400v160ZM180-400h160v-160H180v160Zm440 0h160v-160H620v160ZM180-180h160v-160H180v160Zm440 0h160v-160H620v160Z\"/>\n",
              "  </svg>\n",
              "    </button>\n",
              "\n",
              "  <style>\n",
              "    .colab-df-container {\n",
              "      display:flex;\n",
              "      gap: 12px;\n",
              "    }\n",
              "\n",
              "    .colab-df-convert {\n",
              "      background-color: #E8F0FE;\n",
              "      border: none;\n",
              "      border-radius: 50%;\n",
              "      cursor: pointer;\n",
              "      display: none;\n",
              "      fill: #1967D2;\n",
              "      height: 32px;\n",
              "      padding: 0 0 0 0;\n",
              "      width: 32px;\n",
              "    }\n",
              "\n",
              "    .colab-df-convert:hover {\n",
              "      background-color: #E2EBFA;\n",
              "      box-shadow: 0px 1px 2px rgba(60, 64, 67, 0.3), 0px 1px 3px 1px rgba(60, 64, 67, 0.15);\n",
              "      fill: #174EA6;\n",
              "    }\n",
              "\n",
              "    .colab-df-buttons div {\n",
              "      margin-bottom: 4px;\n",
              "    }\n",
              "\n",
              "    [theme=dark] .colab-df-convert {\n",
              "      background-color: #3B4455;\n",
              "      fill: #D2E3FC;\n",
              "    }\n",
              "\n",
              "    [theme=dark] .colab-df-convert:hover {\n",
              "      background-color: #434B5C;\n",
              "      box-shadow: 0px 1px 3px 1px rgba(0, 0, 0, 0.15);\n",
              "      filter: drop-shadow(0px 1px 2px rgba(0, 0, 0, 0.3));\n",
              "      fill: #FFFFFF;\n",
              "    }\n",
              "  </style>\n",
              "\n",
              "    <script>\n",
              "      const buttonEl =\n",
              "        document.querySelector('#df-b5affb52-69ca-408d-879d-a11cf9f8def7 button.colab-df-convert');\n",
              "      buttonEl.style.display =\n",
              "        google.colab.kernel.accessAllowed ? 'block' : 'none';\n",
              "\n",
              "      async function convertToInteractive(key) {\n",
              "        const element = document.querySelector('#df-b5affb52-69ca-408d-879d-a11cf9f8def7');\n",
              "        const dataTable =\n",
              "          await google.colab.kernel.invokeFunction('convertToInteractive',\n",
              "                                                    [key], {});\n",
              "        if (!dataTable) return;\n",
              "\n",
              "        const docLinkHtml = 'Like what you see? Visit the ' +\n",
              "          '<a target=\"_blank\" href=https://colab.research.google.com/notebooks/data_table.ipynb>data table notebook</a>'\n",
              "          + ' to learn more about interactive tables.';\n",
              "        element.innerHTML = '';\n",
              "        dataTable['output_type'] = 'display_data';\n",
              "        await google.colab.output.renderOutput(dataTable, element);\n",
              "        const docLink = document.createElement('div');\n",
              "        docLink.innerHTML = docLinkHtml;\n",
              "        element.appendChild(docLink);\n",
              "      }\n",
              "    </script>\n",
              "  </div>\n",
              "\n",
              "\n",
              "<div id=\"df-545dfbaf-daa9-4f6e-b7af-a5ac4a997989\">\n",
              "  <button class=\"colab-df-quickchart\" onclick=\"quickchart('df-545dfbaf-daa9-4f6e-b7af-a5ac4a997989')\"\n",
              "            title=\"Suggest charts\"\n",
              "            style=\"display:none;\">\n",
              "\n",
              "<svg xmlns=\"http://www.w3.org/2000/svg\" height=\"24px\"viewBox=\"0 0 24 24\"\n",
              "     width=\"24px\">\n",
              "    <g>\n",
              "        <path d=\"M19 3H5c-1.1 0-2 .9-2 2v14c0 1.1.9 2 2 2h14c1.1 0 2-.9 2-2V5c0-1.1-.9-2-2-2zM9 17H7v-7h2v7zm4 0h-2V7h2v10zm4 0h-2v-4h2v4z\"/>\n",
              "    </g>\n",
              "</svg>\n",
              "  </button>\n",
              "\n",
              "<style>\n",
              "  .colab-df-quickchart {\n",
              "      --bg-color: #E8F0FE;\n",
              "      --fill-color: #1967D2;\n",
              "      --hover-bg-color: #E2EBFA;\n",
              "      --hover-fill-color: #174EA6;\n",
              "      --disabled-fill-color: #AAA;\n",
              "      --disabled-bg-color: #DDD;\n",
              "  }\n",
              "\n",
              "  [theme=dark] .colab-df-quickchart {\n",
              "      --bg-color: #3B4455;\n",
              "      --fill-color: #D2E3FC;\n",
              "      --hover-bg-color: #434B5C;\n",
              "      --hover-fill-color: #FFFFFF;\n",
              "      --disabled-bg-color: #3B4455;\n",
              "      --disabled-fill-color: #666;\n",
              "  }\n",
              "\n",
              "  .colab-df-quickchart {\n",
              "    background-color: var(--bg-color);\n",
              "    border: none;\n",
              "    border-radius: 50%;\n",
              "    cursor: pointer;\n",
              "    display: none;\n",
              "    fill: var(--fill-color);\n",
              "    height: 32px;\n",
              "    padding: 0;\n",
              "    width: 32px;\n",
              "  }\n",
              "\n",
              "  .colab-df-quickchart:hover {\n",
              "    background-color: var(--hover-bg-color);\n",
              "    box-shadow: 0 1px 2px rgba(60, 64, 67, 0.3), 0 1px 3px 1px rgba(60, 64, 67, 0.15);\n",
              "    fill: var(--button-hover-fill-color);\n",
              "  }\n",
              "\n",
              "  .colab-df-quickchart-complete:disabled,\n",
              "  .colab-df-quickchart-complete:disabled:hover {\n",
              "    background-color: var(--disabled-bg-color);\n",
              "    fill: var(--disabled-fill-color);\n",
              "    box-shadow: none;\n",
              "  }\n",
              "\n",
              "  .colab-df-spinner {\n",
              "    border: 2px solid var(--fill-color);\n",
              "    border-color: transparent;\n",
              "    border-bottom-color: var(--fill-color);\n",
              "    animation:\n",
              "      spin 1s steps(1) infinite;\n",
              "  }\n",
              "\n",
              "  @keyframes spin {\n",
              "    0% {\n",
              "      border-color: transparent;\n",
              "      border-bottom-color: var(--fill-color);\n",
              "      border-left-color: var(--fill-color);\n",
              "    }\n",
              "    20% {\n",
              "      border-color: transparent;\n",
              "      border-left-color: var(--fill-color);\n",
              "      border-top-color: var(--fill-color);\n",
              "    }\n",
              "    30% {\n",
              "      border-color: transparent;\n",
              "      border-left-color: var(--fill-color);\n",
              "      border-top-color: var(--fill-color);\n",
              "      border-right-color: var(--fill-color);\n",
              "    }\n",
              "    40% {\n",
              "      border-color: transparent;\n",
              "      border-right-color: var(--fill-color);\n",
              "      border-top-color: var(--fill-color);\n",
              "    }\n",
              "    60% {\n",
              "      border-color: transparent;\n",
              "      border-right-color: var(--fill-color);\n",
              "    }\n",
              "    80% {\n",
              "      border-color: transparent;\n",
              "      border-right-color: var(--fill-color);\n",
              "      border-bottom-color: var(--fill-color);\n",
              "    }\n",
              "    90% {\n",
              "      border-color: transparent;\n",
              "      border-bottom-color: var(--fill-color);\n",
              "    }\n",
              "  }\n",
              "</style>\n",
              "\n",
              "  <script>\n",
              "    async function quickchart(key) {\n",
              "      const quickchartButtonEl =\n",
              "        document.querySelector('#' + key + ' button');\n",
              "      quickchartButtonEl.disabled = true;  // To prevent multiple clicks.\n",
              "      quickchartButtonEl.classList.add('colab-df-spinner');\n",
              "      try {\n",
              "        const charts = await google.colab.kernel.invokeFunction(\n",
              "            'suggestCharts', [key], {});\n",
              "      } catch (error) {\n",
              "        console.error('Error during call to suggestCharts:', error);\n",
              "      }\n",
              "      quickchartButtonEl.classList.remove('colab-df-spinner');\n",
              "      quickchartButtonEl.classList.add('colab-df-quickchart-complete');\n",
              "    }\n",
              "    (() => {\n",
              "      let quickchartButtonEl =\n",
              "        document.querySelector('#df-545dfbaf-daa9-4f6e-b7af-a5ac4a997989 button');\n",
              "      quickchartButtonEl.style.display =\n",
              "        google.colab.kernel.accessAllowed ? 'block' : 'none';\n",
              "    })();\n",
              "  </script>\n",
              "</div>\n",
              "\n",
              "    </div>\n",
              "  </div>\n"
            ],
            "text/plain": [
              "   age  bmi  children  charges  sex_male  smoker_yes  region_northwest  \\\n",
              "0   19   27         0    16884         0           1                 0   \n",
              "1   18   33         1     1725         1           0                 0   \n",
              "2   28   33         3     4449         1           0                 0   \n",
              "3   33   22         0    21984         1           0                 1   \n",
              "4   32   28         0     3866         1           0                 1   \n",
              "5   31   25         0     3756         0           0                 0   \n",
              "6   46   33         1     8240         0           0                 0   \n",
              "7   37   27         3     7281         0           0                 1   \n",
              "8   37   29         2     6406         1           0                 0   \n",
              "9   60   25         0    28923         0           0                 1   \n",
              "\n",
              "   region_southeast  region_southwest  \n",
              "0                 0                 1  \n",
              "1                 1                 0  \n",
              "2                 1                 0  \n",
              "3                 0                 0  \n",
              "4                 0                 0  \n",
              "5                 1                 0  \n",
              "6                 1                 0  \n",
              "7                 0                 0  \n",
              "8                 0                 0  \n",
              "9                 0                 0  "
            ]
          },
          "execution_count": 4,
          "metadata": {},
          "output_type": "execute_result"
        }
      ],
      "source": [
        "# Convert categorical variables to dummy variables\n",
        "df_encoded = pd.get_dummies(df, drop_first=True)\n",
        "\n",
        "# Convert Boolean values to integer (1/0)\n",
        "df_encoded = df_encoded.astype(int)\n",
        "\n",
        "df_encoded.head(10)"
      ]
    },
    {
      "cell_type": "code",
      "execution_count": 5,
      "id": "6fdb3e97",
      "metadata": {
        "colab": {
          "base_uri": "https://localhost:8080/",
          "height": 653
        },
        "id": "6fdb3e97",
        "outputId": "08ecb49b-82af-458a-c8c1-f89b8b0592b7"
      },
      "outputs": [
        {
          "data": {
            "image/png": "[encoded data removed]",
            "text/plain": [
              "<Figure size 800x600 with 2 Axes>"
            ]
          },
          "metadata": {},
          "output_type": "display_data"
        }
      ],
      "source": [
        "# Visualizing correlations\n",
        "plt.figure(figsize=(8,6))\n",
        "sns.heatmap(df_encoded.corr(numeric_only=True), annot=True, cmap='coolwarm', fmt='.2f', vmin=-1, vmax=1)\n",
        "plt.title('Correlation Matrix')\n",
        "plt.show()"
      ]
    },
    {
      "cell_type": "markdown",
      "id": "892dd4ca",
      "metadata": {
        "id": "892dd4ca"
      },
      "source": [
        "## **Simple Linear Regression: Predicting Charges with BMI**"
      ]
    },
    {
      "cell_type": "code",
      "execution_count": 6,
      "id": "43b3b19e",
      "metadata": {
        "colab": {
          "base_uri": "https://localhost:8080/"
        },
        "id": "43b3b19e",
        "outputId": "e9185917-cdc0-429b-9686-5c1fe68d0ace"
      },
      "outputs": [
        {
          "name": "stdout",
          "output_type": "stream",
          "text": [
            "Simple Linear Regression R²: 0.1241\n",
            "Simple Linear Regression RMSE: 11661.20\n"
          ]
        }
      ],
      "source": [
        "# Define independent (X) and dependent (y) variables\n",
        "X = df_encoded[['age']]\n",
        "y = df_encoded['charges']\n",
        "\n",
        "# Split dataset\n",
        "X_train, X_test, y_train, y_test = train_test_split(X, y, test_size=0.2, random_state=42)\n",
        "\n",
        "# Train Simple Linear Regression model\n",
        "lin_reg = LinearRegression()\n",
        "lin_reg.fit(X_train, y_train)\n",
        "\n",
        "# Predict on test data\n",
        "y_pred = lin_reg.predict(X_test)\n",
        "\n",
        "# Compute R² and RMSE\n",
        "r2 = r2_score(y_test, y_pred)\n",
        "rmse = np.sqrt(mean_squared_error(y_test, y_pred))\n",
        "\n",
        "print(f'Simple Linear Regression R²: {r2:.4f}')\n",
        "print(f'Simple Linear Regression RMSE: {rmse:.2f}')"
      ]
    },
    {
      "cell_type": "markdown",
      "id": "8xwiSTf00mRT",
      "metadata": {
        "id": "8xwiSTf00mRT"
      },
      "source": [
        "### Another Pass at Simple Linear Regression\n",
        "\n",
        "Re-run a **simple linear regression model** with the variable you think would be more predictive than age alone."
      ]
    },
    {
      "cell_type": "code",
      "execution_count": 8,
      "id": "spxsbhR803SN",
      "metadata": {
        "colab": {
          "base_uri": "https://localhost:8080/"
        },
        "id": "spxsbhR803SN",
        "outputId": "5706eb73-60b3-412f-f49d-66156cc9463c"
      },
      "outputs": [
        {
          "name": "stdout",
          "output_type": "stream",
          "text": [
            "Simple Linear Regression R²: 0.6602\n",
            "Simple Linear Regression RMSE: 7262.62\n"
          ]
        }
      ],
      "source": [
        "# Define independent (X) and dependent (y) variables\n",
        "# Add the single variable you believe will be more predictive than age\n",
        "X = df_encoded[['smoker_yes']]\n",
        "y = df_encoded['charges']\n",
        "\n",
        "# Split dataset\n",
        "X_train, X_test, y_train, y_test = train_test_split(X, y, test_size=0.2, random_state=42)\n",
        "\n",
        "# Train Simple Linear Regression model\n",
        "lin_reg = LinearRegression()\n",
        "lin_reg.fit(X_train, y_train)\n",
        "\n",
        "# Predict on test data\n",
        "y_pred = lin_reg.predict(X_test)\n",
        "\n",
        "# Compute R² and RMSE\n",
        "r2 = r2_score(y_test, y_pred)\n",
        "rmse = np.sqrt(mean_squared_error(y_test, y_pred))\n",
        "\n",
        "print(f'Simple Linear Regression R²: {r2:.4f}')\n",
        "print(f'Simple Linear Regression RMSE: {rmse:.2f}')"
      ]
    },
    {
      "cell_type": "markdown",
      "id": "0288b505",
      "metadata": {
        "id": "0288b505"
      },
      "source": [
        "## **Multiple Linear Regression**"
      ]
    },
    {
      "cell_type": "code",
      "execution_count": 9,
      "id": "4f251e59",
      "metadata": {
        "colab": {
          "base_uri": "https://localhost:8080/"
        },
        "id": "4f251e59",
        "outputId": "69bfdbc0-b1b9-4e18-8300-8667ecbd3317"
      },
      "outputs": [
        {
          "name": "stdout",
          "output_type": "stream",
          "text": [
            "Multiple Linear Regression R²: 0.7838\n"
          ]
        }
      ],
      "source": [
        "\n",
        "# Define X and y for multiple regression\n",
        "X = df_encoded.drop(columns=['charges'])\n",
        "y = df_encoded['charges']\n",
        "\n",
        "# Split dataset\n",
        "X_train, X_test, y_train, y_test = train_test_split(X, y, test_size=0.2, random_state=42)\n",
        "\n",
        "# Train Multiple Linear Regression model\n",
        "multi_reg = LinearRegression()\n",
        "multi_reg.fit(X_train, y_train)\n",
        "\n",
        "# Predict on test data\n",
        "y_pred_multi = multi_reg.predict(X_test)\n",
        "\n",
        "# Compute R²\n",
        "r2_multi = r2_score(y_test, y_pred_multi)\n",
        "\n",
        "print(f'Multiple Linear Regression R²: {r2_multi:.4f}')"
      ]
    },
    {
      "cell_type": "markdown",
      "id": "d7ed7cc8",
      "metadata": {
        "id": "d7ed7cc8"
      },
      "source": [
        "## **Why Regularization Might Be Needed**\n",
        "\n",
        "If we see multicollinearity among our predictor variables, then we may need to apply regularization. Let's explore the relationships among our predictors."
      ]
    },
    {
      "cell_type": "code",
      "execution_count": 10,
      "id": "f0855984",
      "metadata": {
        "colab": {
          "base_uri": "https://localhost:8080/",
          "height": 653
        },
        "id": "f0855984",
        "outputId": "67e2901f-8c27-42f8-cce3-c766cd38a13e"
      },
      "outputs": [
        {
          "data": {
            "image/png": "[encoded data removed]",
            "text/plain": [
              "<Figure size 800x600 with 2 Axes>"
            ]
          },
          "metadata": {},
          "output_type": "display_data"
        }
      ],
      "source": [
        "# Compute correlation matrix for multiple regression model\n",
        "plt.figure(figsize=(8,6))\n",
        "sns.heatmap(X.corr(), annot=True, cmap='coolwarm', fmt='.2f', vmin=-1, vmax=1)\n",
        "plt.title('Feature Correlations')\n",
        "plt.show()"
      ]
    },
    {
      "cell_type": "markdown",
      "id": "3J8r4uAQQULF",
      "metadata": {
        "id": "3J8r4uAQQULF"
      },
      "source": [
        "There don't seem to be any super high pairwise correlations. Let's explore the VIF which will regress each single predictor variable against all other predictor variables."
      ]
    },
    {
      "cell_type": "code",
      "execution_count": 11,
      "id": "2tF9vwY31gEl",
      "metadata": {
        "colab": {
          "base_uri": "https://localhost:8080/"
        },
        "id": "2tF9vwY31gEl",
        "outputId": "39c4ee55-4afb-4801-f3ed-b1977750ccbf"
      },
      "outputs": [
        {
          "name": "stdout",
          "output_type": "stream",
          "text": [
            "            Feature        VIF\n",
            "0               age   7.635389\n",
            "1               bmi  11.231286\n",
            "2          children   1.808632\n",
            "3          sex_male   2.002017\n",
            "4        smoker_yes   1.260650\n",
            "5  region_northwest   1.886371\n",
            "6  region_southeast   2.266486\n",
            "7  region_southwest   1.959754\n"
          ]
        }
      ],
      "source": [
        "from statsmodels.stats.outliers_influence import variance_inflation_factor\n",
        "\n",
        "# Compute VIF\n",
        "vif_data = pd.DataFrame()\n",
        "vif_data[\"Feature\"] = X.columns\n",
        "vif_data[\"VIF\"] = [variance_inflation_factor(X.values, i) for i in range(X.shape[1])]\n",
        "\n",
        "print(vif_data)"
      ]
    },
    {
      "cell_type": "markdown",
      "id": "yiiSNwyU3Kk5",
      "metadata": {
        "id": "yiiSNwyU3Kk5"
      },
      "source": [
        "#### **High VIF values for `bmi`**\n",
        "\n",
        "There is a high inflation value for `bmi`.\n",
        "\n",
        "Let's manually regress `bmi` on all other independent variables to see how well the other predictor variables explain `bmi`.\n",
        "\n"
      ]
    },
    {
      "cell_type": "code",
      "execution_count": 12,
      "id": "FBxPevbRJr45",
      "metadata": {
        "colab": {
          "base_uri": "https://localhost:8080/"
        },
        "id": "FBxPevbRJr45",
        "outputId": "f0a29b31-8d34-4302-ab4b-77cee354778b"
      },
      "outputs": [
        {
          "name": "stdout",
          "output_type": "stream",
          "text": [
            "R² for predicting bmi: 0.0974\n"
          ]
        }
      ],
      "source": [
        "import statsmodels.api as sm\n",
        "\n",
        "# Define X (all variables except bmi)\n",
        "X_other = X.drop(columns=['bmi'])\n",
        "X_other = sm.add_constant(X_other)  # Add intercept term\n",
        "\n",
        "# Define y (bmi as dependent variable)\n",
        "y_bmi = X['bmi']\n",
        "\n",
        "# Fit regression model\n",
        "model = sm.OLS(y_bmi, X_other).fit()\n",
        "\n",
        "# Print R² value\n",
        "print(f\"R² for predicting bmi: {model.rsquared:.4f}\")"
      ]
    },
    {
      "cell_type": "markdown",
      "id": "-G4EwUiqLiyu",
      "metadata": {
        "id": "-G4EwUiqLiyu"
      },
      "source": [
        "#### **High VIF Values for `bmi`**\n",
        "\n",
        "We did not see a high correlation for `bmi` with any *single* variable in the correlation matrix. However, we observe a **high VIF value (11.23) for `bmi`**, indicating that it may still suffer from **multicollinearity** when considering **all predictors together**.\n",
        "\n",
        "### **Why Does This Happen?**\n",
        "- The correlation matrix only shows **pairwise relationships** between two variables at a time.\n",
        "- **VIF measures how well a variable is predicted by *all* other independent variables together**.\n",
        "- Even if `bmi` is only **moderately correlated with multiple predictors**, these weak dependencies can **add up**, making `bmi` redundant in the model.\n",
        "\n",
        "### **How Do We Interpret This?**\n",
        "1. **`bmi` has VIF > 10**, meaning it is strongly collinear with other predictors.\n",
        "2. However, our manual regression of `bmi` on all other independent variables gave **R² = 0.0974**, meaning other predictors do *not* explain `bmi` well.\n",
        "3. This suggests **the high VIF is not due to one strong correlation, but rather weak correlations across multiple variables.**\n",
        "4. **Multicollinearity does not necessarily mean we should remove `bmi`**—instead, we check its **p-value** in the regression model to see if it contributes useful information.\n",
        "\n",
        "### **Next Step**\n",
        "- Let's re-rerun the model without `bmi` to see if it is an important predictor by comparing the R² before and after** removing `bmi`\n"
      ]
    },
    {
      "cell_type": "code",
      "execution_count": 13,
      "id": "TFkx6DiiLtAo",
      "metadata": {
        "colab": {
          "base_uri": "https://localhost:8080/"
        },
        "id": "TFkx6DiiLtAo",
        "outputId": "4ccfa1b6-3e3c-401b-8ddb-ec7fe5f43fe0"
      },
      "outputs": [
        {
          "name": "stdout",
          "output_type": "stream",
          "text": [
            "Original Model R² (with bmi): 0.7838\n",
            "New Model R² (without bmi): 0.7570\n"
          ]
        }
      ],
      "source": [
        "\n",
        "# Original model with all predictors\n",
        "multi_reg = LinearRegression()\n",
        "multi_reg.fit(X_train, y_train)\n",
        "y_pred_multi = multi_reg.predict(X_test)\n",
        "r2_multi = r2_score(y_test, y_pred_multi)\n",
        "\n",
        "# Model without bmi\n",
        "X_train_no_bmi = X_train.drop(columns=['bmi'])\n",
        "X_test_no_bmi = X_test.drop(columns=['bmi'])\n",
        "\n",
        "multi_reg_no_bmi = LinearRegression()\n",
        "multi_reg_no_bmi.fit(X_train_no_bmi, y_train)\n",
        "y_pred_no_bmi = multi_reg_no_bmi.predict(X_test_no_bmi)\n",
        "r2_no_bmi = r2_score(y_test, y_pred_no_bmi)\n",
        "\n",
        "# Compare results\n",
        "print(f'Original Model R² (with bmi): {r2_multi:.4f}')\n",
        "print(f'New Model R² (without bmi): {r2_no_bmi:.4f}')\n"
      ]
    },
    {
      "cell_type": "markdown",
      "id": "4L1pGivSM0ap",
      "metadata": {
        "id": "4L1pGivSM0ap"
      },
      "source": [
        "#### **Interpreting the Results**\n",
        "\n",
        "Here we are asking, was there a significant drop in R² when removing the `bmi` variable?\n",
        "\n",
        "A good next question is: what is *significant*?\n",
        "\n",
        "For this purpose, we will use an [F-test](https://en.wikipedia.org/wiki/F-test)"
      ]
    },
    {
      "cell_type": "markdown",
      "id": "TzlfhrmEOYN6",
      "metadata": {
        "id": "TzlfhrmEOYN6"
      },
      "source": [
        "### **Assessing the Statistical Significance of R² Drop**\n",
        "We've observed a decrease in R² from **0.7838 (with `bmi`)** to **0.7570 (without `bmi`)**, a drop of **2.68% (~0.027)**. While this tells us the model's predictive power changed, we need to determine if this change is **statistically significant**.\n",
        "\n",
        "#### **How Do We Measure This?**\n",
        "We use an **F-test for nested models**, which tests whether the reduction in model fit (due to removing a variable) is **statistically significant**.\n",
        "\n",
        "#### **How Does the F-Test Work?**\n",
        "- It compares the **Sum of Squared Errors (SSE)** for the full and reduced models.\n",
        "- It calculates an **F-statistic**, which tells us whether the additional variable (`bmi`) significantly improves the model.\n",
        "- We then compute a **p-value**—if **p < 0.05**, removing `bmi` significantly worsened the model, and we should keep it.\n",
        "\n"
      ]
    },
    {
      "cell_type": "code",
      "execution_count": 14,
      "id": "qUxCXLkjOk5v",
      "metadata": {
        "colab": {
          "base_uri": "https://localhost:8080/"
        },
        "id": "qUxCXLkjOk5v",
        "outputId": "1419b042-5d05-49c8-fb4f-f13d0bf4a89c"
      },
      "outputs": [
        {
          "name": "stdout",
          "output_type": "stream",
          "text": [
            "F-statistic: 32.2115\n",
            "p-value: 0.0000\n"
          ]
        }
      ],
      "source": [
        "from scipy.stats import f\n",
        "\n",
        "# Get Sum of Squared Errors (SSE) for both models\n",
        "SSE_full = np.sum((y_test - y_pred_multi) ** 2)  # Full model (with bmi)\n",
        "SSE_reduced = np.sum((y_test - y_pred_no_bmi) ** 2)  # Reduced model (without bmi)\n",
        "\n",
        "# Compute degrees of freedom\n",
        "n = len(y_test)  # Number of observations\n",
        "p_full = X_train.shape[1]  # Number of predictors in full model\n",
        "p_reduced = X_train_no_bmi.shape[1]  # Number of predictors in reduced model\n",
        "\n",
        "# Compute F-statistic\n",
        "df_num = p_full - p_reduced  # Degrees of freedom for numerator\n",
        "df_den = n - p_full  # Degrees of freedom for denominator\n",
        "F_stat = ((SSE_reduced - SSE_full) / df_num) / (SSE_full / df_den)\n",
        "\n",
        "# Compute p-value\n",
        "p_value = 1 - f.cdf(F_stat, df_num, df_den)\n",
        "\n",
        "# Print results\n",
        "print(f\"F-statistic: {F_stat:.4f}\")\n",
        "print(f\"p-value: {p_value:.4f}\")\n"
      ]
    },
    {
      "cell_type": "markdown",
      "id": "4dcae6f8",
      "metadata": {
        "id": "4dcae6f8"
      },
      "source": [
        "**Key Takeaway:**\n",
        "When features are highly correlated, regularization techniques like **Ridge and Lasso regression** help prevent overfitting and improve model interpretability."
      ]
    }
  ],
  "metadata": {
    "colab": {
      "provenance": []
    },
    "kernelspec": {
      "display_name": "Python 3",
      "name": "python3"
    },
    "language_info": {
      "name": "python"
    }
  },
  "nbformat": 4,
  "nbformat_minor": 5
}
