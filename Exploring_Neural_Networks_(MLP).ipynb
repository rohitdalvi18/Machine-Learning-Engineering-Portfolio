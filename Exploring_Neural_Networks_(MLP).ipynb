{
  "cells": [
    {
      "cell_type": "markdown",
      "id": "khvdz4VxBCRn",
      "metadata": {
        "id": "khvdz4VxBCRn"
      },
      "source": [
        "# Neural Networks (MLP)"
      ]
    },
    {
      "cell_type": "markdown",
      "id": "aCWbCXegCZtb",
      "metadata": {
        "id": "aCWbCXegCZtb"
      },
      "source": [
        "## Overview\n",
        "\n",
        "Multi-Layer Perceptrons (MLPs) are a fundamental type of neural network composed of layers of interconnected nodes (neurons). Each neuron takes some inputs, applies a weight to each, adds a bias, and produces an output (often passed through an activation function). By stacking neurons in layers, we can approximate complex functions."
      ]
    },
    {
      "cell_type": "markdown",
      "id": "UlmitgOZEwBS",
      "metadata": {
        "id": "UlmitgOZEwBS"
      },
      "source": [
        "## Toy Example - Single Neuron (1 Input → 1 Output)\n",
        "\n",
        "In this section, we'll construct the simplest neural network possible: just one neuron. This neuron will take a single input value and try to predict a single output value. Essentially, this is like learning a line y = w*x + b (a linear function).\n",
        "\n",
        "By doing this, you'll see how a neuron \"learns\" by adjusting the weight w and bias b through training.\n",
        "\n",
        "### 1.1 Problem Setup\n",
        "\n",
        "Goal: We want our single neuron to learn the function y = 2x + 1. We'll generate a few sample data points from this function and add a bit of noise (to simulate real-world data). The neuron should adjust its weight and bias to fit this data.\n",
        "\n",
        "### 1.2 Generate Toy Data\n",
        "\n",
        "We'll create some sample (x, y) pairs based on the line y = 2x + 1:\n",
        "\n",
        "\n",
        "*   X will be a set of 20 points between 0 and 1.\n",
        "*   y will be computed as 2*X + 1 with a little random noise added (to make it a bit realistic).\n",
        "\n",
        "\n",
        "Run the code cell below to generate the data."
      ]
    },
    {
      "cell_type": "code",
      "execution_count": 1,
      "id": "ujMHK-B-BCIR",
      "metadata": {
        "colab": {
          "base_uri": "https://localhost:8080/"
        },
        "id": "ujMHK-B-BCIR",
        "outputId": "b2c9d16e-f12d-438b-d5bb-522967f9624d"
      },
      "outputs": [
        {
          "name": "stdout",
          "output_type": "stream",
          "text": [
            "X values: [0.         0.05263158 0.10526316 0.15789474 0.21052632 0.26315789\n",
            " 0.31578947 0.36842105 0.42105263 0.47368421 0.52631579 0.57894737\n",
            " 0.63157895 0.68421053 0.73684211 0.78947368 0.84210526 0.89473684\n",
            " 0.94736842 1.        ]\n",
            "True underlying function: y = 2*x + 1\n",
            "First 5 generated y values: [1.17640523 1.14527888 1.30840011 1.53987879 1.60780843]\n"
          ]
        }
      ],
      "source": [
        "import numpy as np\n",
        "\n",
        "# Generate a simple linear dataset: y = 2x + 1 (with a bit of noise)\n",
        "\n",
        "np.random.seed(0)  # for reproducibility\n",
        "X = np.linspace(0, 1, 20)  # 20 points between 0 and 1\n",
        "true_w = 2.0\n",
        "true_b = 1.0\n",
        "\n",
        "# Generate y = 2x + 1 + noise\n",
        "noise = np.random.normal(scale=0.1, size=X.shape)  # small Gaussian noise\n",
        "y = true_w * X + true_b + noise\n",
        "\n",
        "print(\"X values:\", X)\n",
        "print(\"True underlying function: y = 2*x + 1\")\n",
        "print(\"First 5 generated y values:\", y[:5])"
      ]
    },
    {
      "cell_type": "markdown",
      "id": "MlRsdlRcGS4X",
      "metadata": {
        "id": "MlRsdlRcGS4X"
      },
      "source": [
        "Expected output: The printout will show the X values and the first few corresponding y values (approximately following $y ≈ 2x + 1$). The relationship isn't exact due to noise."
      ]
    },
    {
      "cell_type": "markdown",
      "id": "uGQ_X95dBDzS",
      "metadata": {
        "id": "uGQ_X95dBDzS"
      },
      "source": [
        "### Single Neuron Model Definition\n",
        "\n",
        "Now, let's set up a single neuron model.\n",
        "\n",
        "In code, we'll represent the neuron's weight and bias as variables w and b. Initially, we'll set them to random values. The neuron's prediction for an input x is given by:\n",
        "\n",
        "$prediction = w * x + b$\n",
        "\n",
        "We will then train this model to find the best w and b that make the predictions match our data y.\n",
        "\n",
        "Training will be done using **gradient descent**:\n",
        "\n",
        "\n",
        "*   We compute the prediction error (difference between predicted y and actual y).\n",
        "*   Use the error to adjust w and b a little bit in the direction that reduces the error.\n",
        "*   Repeat for multiple epochs (iterations over the data) until the error is small.\n",
        "\n",
        "\n",
        "Let's initialize our single neuron and see the starting parameters:"
      ]
    },
    {
      "cell_type": "code",
      "execution_count": 15,
      "id": "C35AZTbUBD_P",
      "metadata": {
        "colab": {
          "base_uri": "https://localhost:8080/"
        },
        "id": "C35AZTbUBD_P",
        "outputId": "cf2c6700-5c97-4ce8-cc37-7dfb6e02abd1"
      },
      "outputs": [
        {
          "name": "stdout",
          "output_type": "stream",
          "text": [
            "Initial weight (w) = 0.497\n",
            "Initial bias (b) = -0.138\n"
          ]
        }
      ],
      "source": [
        "# Initialize the weight and bias of the neuron with random values\n",
        "np.random.seed(42)  # seed for reproducible random results\n",
        "w = np.random.randn()  # random initial weight\n",
        "b = np.random.randn()  # random initial bias\n",
        "\n",
        "print(f\"Initial weight (w) = {w:.3f}\")\n",
        "print(f\"Initial bias (b) = {b:.3f}\")"
      ]
    },
    {
      "cell_type": "markdown",
      "id": "gnB8HALzHQHJ",
      "metadata": {
        "id": "gnB8HALzHQHJ"
      },
      "source": [
        "At this point, w and b are random, so the neuron's prediction line $y = w*x + b$ is likely far from our target $y = 2x + 1$. Next, we'll train the neuron to adjust these values."
      ]
    },
    {
      "cell_type": "markdown",
      "id": "qAvkFhsABEII",
      "metadata": {
        "id": "qAvkFhsABEII"
      },
      "source": [
        "### Training the Neuron (Manual Gradient Descent)\n",
        "\n",
        "We'll train our neuron using a simple gradient descent loop. For each epoch:\n",
        "1.\tCompute the neuron's predictions for all X.\n",
        "2.\tCalculate the error (difference between predictions and true y).\n",
        "3.\tCompute the Mean Squared Error (MSE) loss as a measure of how bad the predictions are.\n",
        "4.\tCompute the gradients of the loss with respect to w and b (this tells us how to change w and b to reduce the loss).\n",
        "5.\tUpdate w and b by taking a small step in the direction of the negative gradient (since we want to minimize loss).\n",
        "\n",
        "We'll use a fixed learning rate (step size) for the updates.\n",
        "\n",
        "Let's run the training for a certain number of epochs and watch how w and b evolve:"
      ]
    },
    {
      "cell_type": "code",
      "execution_count": 17,
      "id": "n--jQLimBEQv",
      "metadata": {
        "colab": {
          "base_uri": "https://localhost:8080/"
        },
        "id": "n--jQLimBEQv",
        "outputId": "c15e6fa4-86e2-4bbd-ab9f-66a6ad792267"
      },
      "outputs": [
        {
          "name": "stdout",
          "output_type": "stream",
          "text": [
            "Epoch   0: Loss = 0.0456, w = 0.984, b = 1.620\n",
            "Epoch  20: Loss = 0.0456, w = 0.979, b = 1.623\n",
            "Epoch  40: Loss = 0.0456, w = 0.975, b = 1.625\n",
            "Epoch  60: Loss = 0.0456, w = 0.972, b = 1.626\n",
            "Epoch  80: Loss = 0.0456, w = 0.970, b = 1.627\n",
            "Final learned weight (w) = 0.969\n",
            "Final learned bias (b) = 1.628\n",
            "Final loss = 0.045612\n"
          ]
        }
      ],
      "source": [
        "# Training the single neuron using gradient descent\n",
        "learning_rate = 0.1   # step size for weight/bias updates\n",
        "epochs = 100          # how many passes over the data\n",
        "\n",
        "# Lists to store the loss at each epoch for later visualization (optional)\n",
        "losses = []\n",
        "\n",
        "for epoch in range(epochs):\n",
        "    # 1. Compute predictions for all data points in X\n",
        "    y_pred = w * X + b\n",
        "\n",
        "    # 2. Calculate the error (difference) for each point\n",
        "    error = y_pred - y\n",
        "\n",
        "    # 3. Compute Mean Squared Error (MSE) loss\n",
        "    loss = (error ** 2).mean()\n",
        "    losses.append(loss)\n",
        "\n",
        "    # 4. Compute gradients:\n",
        "    #    dLoss/dw and dLoss/db (analytical derivatives for linear model)\n",
        "    grad_w = 2 * (error * X).mean()    # derivative of MSE w.rt. w\n",
        "    grad_b = 2 * error.mean()         # derivative of MSE w.rt. b\n",
        "\n",
        "    # 5. Update parameters using the gradients\n",
        "    w -= learning_rate * grad_w\n",
        "    b -= learning_rate * grad_b\n",
        "\n",
        "    # (Optional) Print loss every 20 epochs to track progress\n",
        "    if epoch % 20 == 0:\n",
        "        print(f\"Epoch {epoch:3d}: Loss = {loss:.4f}, w = {w:.3f}, b = {b:.3f}\")\n",
        "\n",
        "# After training, print the final learned parameters and loss\n",
        "print(f\"Final learned weight (w) = {w:.3f}\")\n",
        "print(f\"Final learned bias (b) = {b:.3f}\")\n",
        "print(f\"Final loss = {losses[-1]:.6f}\")"
      ]
    },
    {
      "cell_type": "markdown",
      "id": "O2TKWuK_BEZj",
      "metadata": {
        "id": "O2TKWuK_BEZj"
      },
      "source": [
        "What to observe:\n",
        "\n",
        "\n",
        "*   As the epochs progress, the loss should decrease.\n",
        "*   The weight w should get closer to 2.0 and bias b closer to 1.0 (since that's the underlying true function).\n",
        "*   The printouts every 20 epochs show the model gradually learning.\n",
        "\n",
        "\n",
        "**Exercise & Reflection**\n",
        "\n",
        "Try changing the `learning_rate` and then the `epochs` to see how the training behavior changes.\n",
        "\n",
        "*Note: each time you adjust the `learning_rate` or `epochs` parameters, you will first need to re-run the code above that initializes the weight and bias of the neuron with random values*\n",
        "\n",
        "\n",
        "*   A smaller learning rate might require more epochs to converge.\n",
        "*   Too large a learning rate might cause the training to overshoot (loss might not go down smoothly).\n",
        "\n",
        "\n",
        "**Reflection Questions**\n",
        "\n",
        "1. What do you notice as the `learning_rate` increases? Decreases?\n",
        "- Final learned weight (w), Final learned bias, Final loss increases with increase in `learning_rate` and vice-versa\n",
        "\n",
        "2. What do you notice as the `epochs` increase? Decrease?\n",
        "- when `epochs` increases, weight and bias decreases, while loss increases and vice-versa\n"
      ]
    },
    {
      "cell_type": "markdown",
      "id": "2auiORw3LIj6",
      "metadata": {
        "id": "2auiORw3LIj6"
      },
      "source": [
        "### Visualizing the Learned Function\n",
        "\n",
        "Let's visualize the result to confirm our neuron learned the function:\n",
        "\n",
        "\n",
        "*   We'll plot the original data points (scatter plot of X vs y).\n",
        "*   Plot the line corresponding to the initial random w and b (the neuron's initial guess before training).\n",
        "*   Plot the line corresponding to the final learned w and b (after training).\n",
        "\n",
        "\n",
        "The final line should closely fit the data points if training went well. Run the cell below to see the plot."
      ]
    },
    {
      "cell_type": "code",
      "execution_count": 4,
      "id": "dP-gPrGgBEhq",
      "metadata": {
        "colab": {
          "base_uri": "https://localhost:8080/",
          "height": 410
        },
        "id": "dP-gPrGgBEhq",
        "outputId": "0bab38e2-38d7-4b0e-aa11-eb66ce61b9b8"
      },
      "outputs": [
        {
          "data": {
            "image/png": "[encoded data removed]",
            "text/plain": [
              "<Figure size 600x400 with 1 Axes>"
            ]
          },
          "metadata": {},
          "output_type": "display_data"
        }
      ],
      "source": [
        "import matplotlib.pyplot as plt\n",
        "\n",
        "# Plot the data points\n",
        "plt.figure(figsize=(6,4))\n",
        "plt.scatter(X, y, label='Data (true y)', color='blue')\n",
        "\n",
        "# Plot the initial line (before training)\n",
        "X_line = np.array([0, 1])  # just need two points (0 and 1) to draw a line\n",
        "y_initial_line = w * X_line + b  # careful: w and b have been updated, we need initial values\n",
        "# Actually, let's reuse the initial w and b we saved (if we saved them)\n",
        "# If not saved, reinitialize for demonstration (in a real run, you'd save them before training)\n",
        "w_initial = 0.497  # (for reproducibility, this was the initial w printed above)\n",
        "b_initial = -0.138 # (initial b printed above)\n",
        "y_initial_line = w_initial * X_line + b_initial\n",
        "plt.plot(X_line, y_initial_line, 'r--', label='Initial Guess')\n",
        "\n",
        "# Plot the learned line (after training)\n",
        "y_final_line = w * X_line + b\n",
        "plt.plot(X_line, y_final_line, 'g-', label='Learned Line')\n",
        "\n",
        "# Add labels and legend\n",
        "plt.title(\"Single Neuron Fit to y = 2x + 1\")\n",
        "plt.xlabel(\"x (input)\")\n",
        "plt.ylabel(\"y (output)\")\n",
        "plt.legend()\n",
        "plt.show()"
      ]
    },
    {
      "cell_type": "markdown",
      "id": "UcZzJfqvBEqw",
      "metadata": {
        "id": "UcZzJfqvBEqw"
      },
      "source": [
        "After running the above cell, you should see a graph where:\n",
        "\n",
        "\n",
        "*   Blue points are the original data.\n",
        "*   A red dashed line is the neuron's initial prediction line (likely not fitting the points).\n",
        "*   A green line is the final learned line (should pass through the data closely).\n",
        "\n",
        "\n",
        "This confirms that our single neuron adjusted its weight and bias to learn the relationship $y = 2x + 1$ from data!"
      ]
    },
    {
      "cell_type": "markdown",
      "id": "Q_Pkl4szXy0T",
      "metadata": {
        "id": "Q_Pkl4szXy0T"
      },
      "source": [
        "## Step 1: From Linear Regression to a Real MLP\n",
        "\n",
        "So far, we implemented a single neuron model — essentially a linear regression:\n",
        "\n",
        "$\\hat{y} = w \\cdot x + b$\n",
        "\n",
        "This line can only model straight-line relationships.\n",
        "To build a true multi-layer perceptron (MLP), we must add:\n",
        "\n",
        "* A hidden layer (an intermediate step between input and output)\n",
        "* A non-linear activation function like ReLU\n",
        "\n",
        "This allows the model to fit curved functions — not just lines — giving it much more expressive power."
      ]
    },
    {
      "cell_type": "markdown",
      "id": "MXIuIo3WX8bo",
      "metadata": {
        "id": "MXIuIo3WX8bo"
      },
      "source": [
        "## Step 2: Build and Train a Simple MLP\n",
        "\n",
        "Our MLP architecture:\n",
        "\n",
        "1.\tInput x\n",
        "\n",
        "2.\tHidden neuron:\n",
        "$z_1 = w_1 \\cdot x + b_1$\n",
        "$a_1 = \\text{ReLU}(z_1)$\n",
        "\n",
        "3.\tOutput neuron:\n",
        "$\\hat{y} = w_2 \\cdot a_1 + b_2$\n",
        "\n",
        "We use manual gradient descent to train this small network from scratch."
      ]
    },
    {
      "cell_type": "code",
      "execution_count": 5,
      "id": "IHCWAoSxYIle",
      "metadata": {
        "colab": {
          "base_uri": "https://localhost:8080/"
        },
        "id": "IHCWAoSxYIle",
        "outputId": "ef521782-0d45-4d1d-870c-7b7aca7987d5"
      },
      "outputs": [
        {
          "name": "stdout",
          "output_type": "stream",
          "text": [
            "Epoch 0: Loss = 6.5966\n",
            "Epoch 50: Loss = 0.0245\n",
            "Epoch 100: Loss = 0.0191\n",
            "Epoch 150: Loss = 0.0161\n"
          ]
        }
      ],
      "source": [
        "import numpy as np\n",
        "\n",
        "# Generate toy data again (y = 2x + 1 + noise)\n",
        "np.random.seed(0)\n",
        "X = np.linspace(0, 1, 20)\n",
        "true_w, true_b = 2.0, 1.0\n",
        "noise = np.random.normal(scale=0.1, size=X.shape)\n",
        "# Now let's generate data with a curved pattern\n",
        "y = true_w * X + true_b + 0.5 * np.sin(5 * X) + noise\n",
        "\n",
        "# Initialize weights and biases for ten neurons in the hidden layer\n",
        "np.random.seed(42)\n",
        "hidden_size = 10\n",
        "w1 = np.random.randn(hidden_size)          # shape: (10,)\n",
        "b1 = np.random.randn(hidden_size)          # shape: (10,)\n",
        "w2 = np.random.randn(hidden_size)          # shape: (10,) — 1 output neuron receiving from 10 hidden\n",
        "b2 = np.random.randn()                     # scalar bias for output\n",
        "\n",
        "# ReLU function and its derivative\n",
        "def relu(x):\n",
        "    return np.maximum(0, x)\n",
        "\n",
        "def relu_deriv(x):\n",
        "    return (x > 0).astype(float)\n",
        "\n",
        "# Training loop\n",
        "lr = 0.1\n",
        "epochs = 200\n",
        "losses = []\n",
        "\n",
        "for epoch in range(epochs):\n",
        "    # === Forward pass ===\n",
        "    # Expand input X to shape (num_samples, 1) so broadcasting works\n",
        "    X_input = X[:, np.newaxis]                # shape: (20, 1)\n",
        "\n",
        "    # Forward pass through hidden layer (broadcasting handles shape)\n",
        "    z1 = X_input * w1 + b1                    # shape: (20, 10)\n",
        "    a1 = relu(z1)                             # shape: (20, 10)\n",
        "\n",
        "    # Forward pass through output layer: dot product across hidden neurons\n",
        "    y_pred = np.dot(a1, w2) + b2              # shape: (20,)\n",
        "\n",
        "    # === Compute MSE Loss ===\n",
        "    error = y_pred - y\n",
        "    loss = (error ** 2).mean()\n",
        "    losses.append(loss)\n",
        "\n",
        "    # === Backpropagation ===\n",
        "    grad_y_pred = 2 * (y_pred - y) / len(X)     # shape: (20,)\n",
        "\n",
        "    # Output layer gradients\n",
        "    grad_w2 = np.dot(a1.T, grad_y_pred)         # shape: (10,)\n",
        "    grad_b2 = np.sum(grad_y_pred)               # scalar\n",
        "\n",
        "    # Hidden layer gradients\n",
        "    grad_a1 = grad_y_pred[:, np.newaxis] * w2   # shape: (20,10)\n",
        "    grad_z1 = grad_a1 * relu_deriv(z1)          # shape: (20,10)\n",
        "\n",
        "    grad_w1 = np.sum(X_input * grad_z1, axis=0) # shape: (10,)\n",
        "    grad_b1 = np.sum(grad_z1, axis=0)           # shape: (10,)\n",
        "\n",
        "    # === Update weights ===\n",
        "    w1 -= lr * grad_w1\n",
        "    b1 -= lr * grad_b1\n",
        "    w2 -= lr * grad_w2\n",
        "    b2 -= lr * grad_b2\n",
        "\n",
        "    # Print every 50 epochs\n",
        "    if epoch % 50 == 0:\n",
        "        print(f\"Epoch {epoch}: Loss = {loss:.4f}\")"
      ]
    },
    {
      "cell_type": "markdown",
      "id": "Xj64aYmpY1fW",
      "metadata": {
        "id": "Xj64aYmpY1fW"
      },
      "source": [
        "**Forward Pass — How a Neural Network Makes a Guess**\n",
        "\n",
        "Think of the network as a function machine.\n",
        "1.\tYou give it an input x (a number, image, etc).\n",
        "2.\tIt goes through layers:\n",
        "* First, x is multiplied by some weight (just a number the network learns).\n",
        "* Then it adds a bias (a little push up or down).\n",
        "* This gives us an intermediate value (we call this z).\n",
        "3.\tThat z goes through an activation function (like ReLU), which decides:\n",
        "* “Should this neuron be active or not?”\n",
        "4.\tThat activated output is passed to the next layer, where the process repeats.\n",
        "5.\tAt the final layer, the network makes a prediction (e.g., ŷ).\n",
        "\n",
        "**Backward Pass — How a Neural Network Learns**\n",
        "\n",
        "Once the network makes a prediction, we compare it to the true answer and ask:\n",
        "\n",
        "\"How far off was I?\"\n",
        "\n",
        "1.\tWe calculate error (e.g., the difference between predicted ŷ and true y).\n",
        "2.\tThe goal is to adjust the weights and biases so that next time, the error is smaller.\n",
        "3.\tTo do that, we use calculus (gradients) to compute:\n",
        "* How much each weight contributed to the error.\n",
        "4.\tThen we nudge each weight a little in the direction that reduces error — this is called gradient descent.\n",
        "\n",
        "Key idea:\n",
        "\n",
        "Each neuron asks: \"Did I make things better or worse?\" If worse, it adjusts its weight and bias to try again next time.\n",
        "\n",
        "That whole process — forward pass → loss → backward pass → update weights — is one training step. We repeat this many times (**epochs**) until the predictions improve."
      ]
    },
    {
      "cell_type": "markdown",
      "id": "uRsRxPZgYbD_",
      "metadata": {
        "id": "uRsRxPZgYbD_"
      },
      "source": [
        "### Step 3: Visualize the Learned Non-Linear Prediction\n",
        "\n",
        "Now let's visualize the prediction of our MLP."
      ]
    },
    {
      "cell_type": "code",
      "execution_count": 6,
      "id": "dMMR4XagYfqR",
      "metadata": {
        "colab": {
          "base_uri": "https://localhost:8080/",
          "height": 410
        },
        "id": "dMMR4XagYfqR",
        "outputId": "9904affc-c58a-4c24-9585-d790f0cbfa9f"
      },
      "outputs": [
        {
          "data": {
            "image/png": "[encoded data removed]",
            "text/plain": [
              "<Figure size 600x400 with 1 Axes>"
            ]
          },
          "metadata": {},
          "output_type": "display_data"
        }
      ],
      "source": [
        "import matplotlib.pyplot as plt\n",
        "\n",
        "# Generate dense x values for a smooth curve\n",
        "X_dense = np.linspace(0, 1, 200)\n",
        "X_dense_input = X_dense[:, np.newaxis]            # shape: (200, 1)\n",
        "\n",
        "# Forward pass with vectorized hidden layer\n",
        "z1_dense = X_dense_input * w1 + b1                # shape: (200, 10)\n",
        "a1_dense = relu(z1_dense)                         # shape: (200, 10)\n",
        "y_pred_dense = np.dot(a1_dense, w2) + b2          # shape: (200,)\n",
        "\n",
        "# Plot the learned curve\n",
        "plt.figure(figsize=(6, 4))\n",
        "plt.scatter(X, y, label='True Data', color='blue')\n",
        "plt.plot(X_dense, y_pred_dense, label='MLP Prediction', color='green')\n",
        "plt.title(\"MLP with 10 Hidden Neurons (ReLU)\")\n",
        "plt.xlabel(\"x\")\n",
        "plt.ylabel(\"y\")\n",
        "plt.legend()\n",
        "plt.grid(True)\n",
        "plt.show()"
      ]
    },
    {
      "cell_type": "markdown",
      "id": "mk2Do7Oybk0e",
      "metadata": {
        "id": "mk2Do7Oybk0e"
      },
      "source": [
        "**Understanding the MLP’s Learned Curve (and How It Got There)**\n",
        "\n",
        "Now that we’ve trained an MLP with 10 hidden neurons, let’s break down what you’re seeing in the plot and map it back to what’s happening in the network:\n",
        "\n",
        "⸻\n",
        "\n",
        "Forward Pass: What Shapes the Green Line?\n",
        "\n",
        "Each hidden neuron does this:\n",
        "1.\tTakes in the input x\n",
        "2.\tApplies a weight and bias → computes z = w_1 \\cdot x + b_1\n",
        "3.\tPasses that through ReLU:\n",
        "* If z < 0, the neuron stays silent (outputs 0)\n",
        "* If z > 0, the neuron becomes active and outputs z\n",
        "\n",
        "This means:\n",
        "* Each neuron contributes a little linear segment when it’s active.\n",
        "* The final prediction is a weighted sum of all those segment contributions:\n",
        "$\\hat{y} = w_2^{(1)} a_1 + w_2^{(2)} a_2 + \\dots + w_2^{(10)} a_{10} + b_2$\n",
        "\n",
        "So, the network is building the green line by stitching together segments — almost like a piecewise linear function.\n",
        "\n",
        "In your plot, you can even see the kinks where different neurons turned on or off.\n",
        "\n",
        "⸻\n",
        "\n",
        "Backward Pass: How Did the Network Learn This?\n",
        "\n",
        "In training:\n",
        "1.\tAfter the forward pass, the model compares its output to the true y (blue dots).\n",
        "2.\tIt computes the loss (how far off it is).\n",
        "3.\tThen it calculates how much each weight/bias contributed to the error, and nudges them to do better.\n",
        "\n",
        "That’s why you saw the green line gradually curve and settle into this shape over epochs.\n",
        "\n",
        "Each kink or slope change is the result of a hidden neuron deciding to activate (or not) for some range of x.\n",
        "\n",
        "⸻\n",
        "\n",
        "What You’re Seeing in the Plot\n",
        "* The green curve is not smooth — it’s a series of linear segments, stitched together.\n",
        "* This is a direct result of using ReLU, which only adds linear parts where neurons are “on”.\n",
        "* The more neurons you have, the more “pieces” the network can combine → more flexibility.\n",
        "\n",
        "⸻\n",
        "\n",
        "Summary: What to Tell Yourself\n",
        "\n",
        "“Each hidden neuron adds a piece of the curve. The model learns by tweaking how strong each piece is, where it starts activating, and how to sum them together.”"
      ]
    },
    {
      "cell_type": "markdown",
      "id": "d9v-oUv0MY-s",
      "metadata": {
        "id": "d9v-oUv0MY-s"
      },
      "source": [
        "## From One Neuron to Many\n",
        "\n",
        "\n",
        "*   Multiple Inputs: If we had more features (say $x_1$, $x_2$, ...), a single neuron could learn a linear combination like $y = w_1x_1 + w_2x_2 + ... + b$. This is a neuron with multiple input connections.\n",
        "*   Hidden Layers: Stacking neurons into layers allows the network to learn more complex (non-linear) relationships. Neurons in hidden layers typically use non-linear activation functions (like ReLU, sigmoid, etc.) to introduce non-linearity. [A great guide to activation functions](https://aarafat27.medium.com/a-comprehensive-guide-to-activation-functions-in-deep-learning-ff794f87c184).\n",
        "*   Output Layer: For multiple outputs or classes, we use multiple neurons in the final layer (e.g., 10 neurons for 10 classes in digit classification).\n",
        "\n",
        "\n",
        "In practice, of course you won't code the weight updates manually for each neuron as we did above. Instead, you'll use libraries (like TensorFlow/Keras or PyTorch) that handle the gradients for you. But understanding the manual update as we did is very important to grasp what the framework is doing under the hood.\n",
        "\n",
        "In the next part, let's apply these concepts to a slightly more complex, but very classic, problem: recognizing handwritten digits with a small neural network (MLP)."
      ]
    },
    {
      "cell_type": "markdown",
      "id": "N5ajlZfUNrSB",
      "metadata": {
        "id": "N5ajlZfUNrSB"
      },
      "source": [
        "## Building a Multi-Layer Perceptron for Digit Classification with a Real Dataset and TensorFlow\n",
        "\n",
        "For this hands-on exercise, we'll use the famous MNIST dataset (a collection of 28x28 pixel images of handwritten digits 0-9). Our task is to build an MLP that takes an image as input and outputs the predicted digit.\n",
        "\n",
        "Plan:\n",
        "\n",
        "1.\t**Load and preprocess the dataset** (we'll use a subset for speed).\n",
        "2.\t**Build the MLP model** with an input layer, one hidden layer, and an output layer.\n",
        "3.\t**Train the model** on the training data.\n",
        "4.\t**Visualize training** progress (training vs validation accuracy).\n",
        "5.\t**Evaluate the model** on test data and visualize some predictions.\n",
        "\n",
        "Let's go step by step."
      ]
    },
    {
      "cell_type": "markdown",
      "id": "68x4bOzqN25g",
      "metadata": {
        "id": "68x4bOzqN25g"
      },
      "source": [
        "### Load and Preprocess the MNIST Data\n",
        "\n",
        "We'll use Keras (an API in TensorFlow) to load the MNIST dataset. Keras provides a convenient `mnist.load_data()` function. Each image is 28x28 pixels, and there are 10 classes (digits 0 through 9).\n",
        "\n",
        "After loading:\n",
        "\n",
        "\n",
        "*   We will normalize the pixel values to the range $[0,1]$ (currently they are 0-255).\n",
        "*   Flatten each 28x28 image into a 784-dimensional vector, since a basic dense MLP expects a 1D input vector per sample.\n",
        "*   Split into training and test sets (Keras already gives train and test splits).\n",
        "\n",
        "\n",
        "We'll also possibly use a smaller subset of the data (to keep training quick for this demo). For example, we might use only the first 10,000 training samples and 1,000 test samples instead of the full 60,000/10,000, just to speed things up in this interactive environment. You can always expand to full dataset later."
      ]
    },
    {
      "cell_type": "code",
      "execution_count": 7,
      "id": "MFL2ywg7BEy2",
      "metadata": {
        "colab": {
          "base_uri": "https://localhost:8080/"
        },
        "id": "MFL2ywg7BEy2",
        "outputId": "43026e2c-2850-43e0-ecb1-3c4399164189"
      },
      "outputs": [
        {
          "name": "stdout",
          "output_type": "stream",
          "text": [
            "Downloading data from https://storage.googleapis.com/tensorflow/tf-keras-datasets/mnist.npz\n",
            "\u001b[1m11490434/11490434\u001b[0m \u001b[32m━━━━━━━━━━━━━━━━━━━━\u001b[0m\u001b[37m\u001b[0m \u001b[1m1s\u001b[0m 0us/step\n",
            "Training data shape (images): (10000, 28, 28)\n",
            "Training labels shape: (10000,)\n",
            "Test data shape (images): (1000, 28, 28)\n",
            "Test labels shape: (1000,)\n",
            "Training data shape after flattening: (10000, 784)\n",
            "First 5 training labels: [5 0 4 1 9]\n"
          ]
        }
      ],
      "source": [
        "from tensorflow import keras\n",
        "\n",
        "# Load MNIST dataset (handwritten digit images)\n",
        "(x_train, y_train), (x_test, y_test) = keras.datasets.mnist.load_data()\n",
        "\n",
        "# For this exercise, use a subset for faster training (you can increase these numbers later)\n",
        "x_train = x_train[:10000]\n",
        "y_train = y_train[:10000]\n",
        "x_test = x_test[:1000]\n",
        "y_test = y_test[:1000]\n",
        "\n",
        "# Print shapes to understand the data structure\n",
        "print(\"Training data shape (images):\", x_train.shape)  # (number, 28, 28)\n",
        "print(\"Training labels shape:\", y_train.shape)         # (number,)\n",
        "print(\"Test data shape (images):\", x_test.shape)\n",
        "print(\"Test labels shape:\", y_test.shape)\n",
        "\n",
        "# Normalize pixel values to [0,1] by dividing by 255\n",
        "x_train = x_train.astype(\"float32\") / 255.0\n",
        "x_test  = x_test.astype(\"float32\") / 255.0\n",
        "\n",
        "# Flatten 28x28 images into 784-dimensional vectors\n",
        "x_train = x_train.reshape(len(x_train), 28*28)\n",
        "x_test  = x_test.reshape(len(x_test), 28*28)\n",
        "\n",
        "print(\"Training data shape after flattening:\", x_train.shape)  # (number, 784)\n",
        "print(\"First 5 training labels:\", y_train[:5])"
      ]
    },
    {
      "cell_type": "markdown",
      "id": "E5Tra9jdBE78",
      "metadata": {
        "id": "E5Tra9jdBE78"
      },
      "source": [
        "After running this:\n",
        "\n",
        "\n",
        "*   You should see the shape of `x_train` as (10000, 28, 28) originally and then (10000, 784) after flattening.\n",
        "*   The labels are digits (0-9) and are just integers in `y_train`/`y_test`.\n",
        "\n"
      ]
    },
    {
      "cell_type": "markdown",
      "id": "3uAeQygEPF8O",
      "metadata": {
        "id": "3uAeQygEPF8O"
      },
      "source": [
        "### Define the MLP Model\n",
        "\n",
        "Now, let's build a simple neural network for classification:\n",
        "\n",
        "\n",
        "*  Input layer: 784 input neurons (one for each pixel of the image). (We don't explicitly add an \"input layer\" in Keras; we specify input_shape in the first layer.)\n",
        "*   Hidden layer: Let's use one hidden layer with, say, 32 neurons and a ReLU activation. (ReLU = Rectified Linear Unit, a common activation that outputs $max(0,x)$ introducing non-linearity.)\n",
        "*   Output layer: 10 neurons with softmax activation (each neuron corresponds to one digit (0-9) and softmax makes the outputs sum to 1, interpretable as probabilities for each class).\n",
        "\n",
        "Relating activation functions to concepts we have seen:\n",
        "\n",
        "\n",
        "*   Logistic Regression uses sigmoid for binary classification (squash into 0-1).\n",
        "*   Softmax is a multi-class generalization of sigmoid.\n",
        "*   ReLU is like a simple threshold: \"is this feature active or not?\"\n",
        "\n",
        "\n",
        "We'll use the Sequential model from Keras, which lets us stack layers easily. Then we'll compile the model with:\n",
        "\n",
        "\n",
        "*   Optimizer: Adam (a popular gradient descent variant that adjusts learning rate automatically).\n",
        "*   Loss: Sparse categorical crossentropy (appropriate for multi-class classification when labels are integers).\n",
        "*   Metrics: Accuracy (to track what percent of images are classified correctly).\n",
        "\n",
        "\n",
        "Let's create the model:"
      ]
    },
    {
      "cell_type": "code",
      "execution_count": 8,
      "id": "K0hGVsHdBFEj",
      "metadata": {
        "colab": {
          "base_uri": "https://localhost:8080/",
          "height": 199
        },
        "id": "K0hGVsHdBFEj",
        "outputId": "f7f10a4d-83bc-43fc-d440-b8e1ef748c45"
      },
      "outputs": [
        {
          "data": {
            "text/html": [
              "<pre style=\"white-space:pre;overflow-x:auto;line-height:normal;font-family:Menlo,'DejaVu Sans Mono',consolas,'Courier New',monospace\"><span style=\"font-weight: bold\">Model: \"sequential\"</span>\n",
              "</pre>\n"
            ],
            "text/plain": [
              "\u001b[1mModel: \"sequential\"\u001b[0m\n"
            ]
          },
          "metadata": {},
          "output_type": "display_data"
        },
        {
          "data": {
            "text/html": [
              "<pre style=\"white-space:pre;overflow-x:auto;line-height:normal;font-family:Menlo,'DejaVu Sans Mono',consolas,'Courier New',monospace\">┏━━━━━━━━━━━━━━━━━━━━━━━━━━━━━━━━━┳━━━━━━━━━━━━━━━━━━━━━━━━┳━━━━━━━━━━━━━━━┓\n",
              "┃<span style=\"font-weight: bold\"> Layer (type)                    </span>┃<span style=\"font-weight: bold\"> Output Shape           </span>┃<span style=\"font-weight: bold\">       Param # </span>┃\n",
              "┡━━━━━━━━━━━━━━━━━━━━━━━━━━━━━━━━━╇━━━━━━━━━━━━━━━━━━━━━━━━╇━━━━━━━━━━━━━━━┩\n",
              "│ dense (<span style=\"color: #0087ff; text-decoration-color: #0087ff\">Dense</span>)                   │ (<span style=\"color: #00d7ff; text-decoration-color: #00d7ff\">None</span>, <span style=\"color: #00af00; text-decoration-color: #00af00\">32</span>)             │        <span style=\"color: #00af00; text-decoration-color: #00af00\">25,120</span> │\n",
              "├─────────────────────────────────┼────────────────────────┼───────────────┤\n",
              "│ dense_1 (<span style=\"color: #0087ff; text-decoration-color: #0087ff\">Dense</span>)                 │ (<span style=\"color: #00d7ff; text-decoration-color: #00d7ff\">None</span>, <span style=\"color: #00af00; text-decoration-color: #00af00\">10</span>)             │           <span style=\"color: #00af00; text-decoration-color: #00af00\">330</span> │\n",
              "└─────────────────────────────────┴────────────────────────┴───────────────┘\n",
              "</pre>\n"
            ],
            "text/plain": [
              "┏━━━━━━━━━━━━━━━━━━━━━━━━━━━━━━━━━┳━━━━━━━━━━━━━━━━━━━━━━━━┳━━━━━━━━━━━━━━━┓\n",
              "┃\u001b[1m \u001b[0m\u001b[1mLayer (type)                   \u001b[0m\u001b[1m \u001b[0m┃\u001b[1m \u001b[0m\u001b[1mOutput Shape          \u001b[0m\u001b[1m \u001b[0m┃\u001b[1m \u001b[0m\u001b[1m      Param #\u001b[0m\u001b[1m \u001b[0m┃\n",
              "┡━━━━━━━━━━━━━━━━━━━━━━━━━━━━━━━━━╇━━━━━━━━━━━━━━━━━━━━━━━━╇━━━━━━━━━━━━━━━┩\n",
              "│ dense (\u001b[38;5;33mDense\u001b[0m)                   │ (\u001b[38;5;45mNone\u001b[0m, \u001b[38;5;34m32\u001b[0m)             │        \u001b[38;5;34m25,120\u001b[0m │\n",
              "├─────────────────────────────────┼────────────────────────┼───────────────┤\n",
              "│ dense_1 (\u001b[38;5;33mDense\u001b[0m)                 │ (\u001b[38;5;45mNone\u001b[0m, \u001b[38;5;34m10\u001b[0m)             │           \u001b[38;5;34m330\u001b[0m │\n",
              "└─────────────────────────────────┴────────────────────────┴───────────────┘\n"
            ]
          },
          "metadata": {},
          "output_type": "display_data"
        },
        {
          "data": {
            "text/html": [
              "<pre style=\"white-space:pre;overflow-x:auto;line-height:normal;font-family:Menlo,'DejaVu Sans Mono',consolas,'Courier New',monospace\"><span style=\"font-weight: bold\"> Total params: </span><span style=\"color: #00af00; text-decoration-color: #00af00\">25,450</span> (99.41 KB)\n",
              "</pre>\n"
            ],
            "text/plain": [
              "\u001b[1m Total params: \u001b[0m\u001b[38;5;34m25,450\u001b[0m (99.41 KB)\n"
            ]
          },
          "metadata": {},
          "output_type": "display_data"
        },
        {
          "data": {
            "text/html": [
              "<pre style=\"white-space:pre;overflow-x:auto;line-height:normal;font-family:Menlo,'DejaVu Sans Mono',consolas,'Courier New',monospace\"><span style=\"font-weight: bold\"> Trainable params: </span><span style=\"color: #00af00; text-decoration-color: #00af00\">25,450</span> (99.41 KB)\n",
              "</pre>\n"
            ],
            "text/plain": [
              "\u001b[1m Trainable params: \u001b[0m\u001b[38;5;34m25,450\u001b[0m (99.41 KB)\n"
            ]
          },
          "metadata": {},
          "output_type": "display_data"
        },
        {
          "data": {
            "text/html": [
              "<pre style=\"white-space:pre;overflow-x:auto;line-height:normal;font-family:Menlo,'DejaVu Sans Mono',consolas,'Courier New',monospace\"><span style=\"font-weight: bold\"> Non-trainable params: </span><span style=\"color: #00af00; text-decoration-color: #00af00\">0</span> (0.00 B)\n",
              "</pre>\n"
            ],
            "text/plain": [
              "\u001b[1m Non-trainable params: \u001b[0m\u001b[38;5;34m0\u001b[0m (0.00 B)\n"
            ]
          },
          "metadata": {},
          "output_type": "display_data"
        }
      ],
      "source": [
        "from tensorflow.keras import layers\n",
        "\n",
        "# Build a simple MLP: 784 -> [32 ReLU] -> [10 Softmax]\n",
        "model = keras.Sequential([\n",
        "    keras.Input(shape=(784,)),  # Define the input shape using Input layer\n",
        "    layers.Dense(32, activation='relu'), # Hidden layer with 32 neurons\n",
        "    layers.Dense(10, activation='softmax') # Output layer with 10 neurons (0-9)\n",
        "])\n",
        "\n",
        "# Compile the model with an optimizer, loss, and metric\n",
        "model.compile(optimizer='adam',\n",
        "              loss='sparse_categorical_crossentropy',\n",
        "              metrics=['accuracy'])\n",
        "\n",
        "# Display the model's architecture\n",
        "model.summary()"
      ]
    },
    {
      "cell_type": "markdown",
      "id": "-nEd4pfeQ6vS",
      "metadata": {
        "id": "-nEd4pfeQ6vS"
      },
      "source": [
        "The `model.summary()` will print a table of layers with their output shapes and number of parameters.\n",
        "\n",
        "You should see that the first dense layer has 32 neurons * 784 inputs each + 32 biases = 25120 parameters, and the second dense layer has 10 neurons * 32 inputs + 10 biases = 330 parameters. So total ~25.4k parameters in this network.\n",
        "\n",
        "Even this small network has a lot more parameters than our single neuron earlier! But Keras will handle all the weight updates for us during training.\n"
      ]
    },
    {
      "cell_type": "markdown",
      "id": "UQINg62JBFN4",
      "metadata": {
        "id": "UQINg62JBFN4"
      },
      "source": [
        "### Train the MLP on the Training Data\n",
        "\n",
        "Now it's time to train (fit) the model to our data. We'll use the `model.fit()` function from Keras. We will provide:\n",
        "\n",
        "\n",
        "*   The training inputs (`x_train`) and labels (`y_train`).\n",
        "*   How many epochs (iterations over the training set) to train for.\n",
        "*   A validation dataset (so it will report performance on `x_test`, `y_test` at each epoch too, to see if it's generalizing well).\n",
        "\n",
        "\n",
        "Let's train for a few epochs (e.g., 5 epochs) and see how it goes. (If using the full dataset, you'd likely train for more epochs, but with our subset 5 is fine for demonstration.)"
      ]
    },
    {
      "cell_type": "code",
      "execution_count": 9,
      "id": "mNB8_DHTBFX3",
      "metadata": {
        "colab": {
          "base_uri": "https://localhost:8080/"
        },
        "id": "mNB8_DHTBFX3",
        "outputId": "e4c367dc-7f0d-4bde-b050-1879faf028d3"
      },
      "outputs": [
        {
          "name": "stdout",
          "output_type": "stream",
          "text": [
            "Epoch 1/5\n",
            "\u001b[1m313/313\u001b[0m \u001b[32m━━━━━━━━━━━━━━━━━━━━\u001b[0m\u001b[37m\u001b[0m \u001b[1m2s\u001b[0m 3ms/step - accuracy: 0.6345 - loss: 1.1999 - val_accuracy: 0.8830 - val_loss: 0.4189\n",
            "Epoch 2/5\n",
            "\u001b[1m313/313\u001b[0m \u001b[32m━━━━━━━━━━━━━━━━━━━━\u001b[0m\u001b[37m\u001b[0m \u001b[1m1s\u001b[0m 2ms/step - accuracy: 0.9123 - loss: 0.3254 - val_accuracy: 0.9030 - val_loss: 0.3297\n",
            "Epoch 3/5\n",
            "\u001b[1m313/313\u001b[0m \u001b[32m━━━━━━━━━━━━━━━━━━━━\u001b[0m\u001b[37m\u001b[0m \u001b[1m1s\u001b[0m 2ms/step - accuracy: 0.9271 - loss: 0.2643 - val_accuracy: 0.9030 - val_loss: 0.3074\n",
            "Epoch 4/5\n",
            "\u001b[1m313/313\u001b[0m \u001b[32m━━━━━━━━━━━━━━━━━━━━\u001b[0m\u001b[37m\u001b[0m \u001b[1m1s\u001b[0m 2ms/step - accuracy: 0.9398 - loss: 0.2266 - val_accuracy: 0.9150 - val_loss: 0.2799\n",
            "Epoch 5/5\n",
            "\u001b[1m313/313\u001b[0m \u001b[32m━━━━━━━━━━━━━━━━━━━━\u001b[0m\u001b[37m\u001b[0m \u001b[1m1s\u001b[0m 2ms/step - accuracy: 0.9444 - loss: 0.2050 - val_accuracy: 0.9210 - val_loss: 0.2722\n"
          ]
        }
      ],
      "source": [
        "# Train the model on the training data\n",
        "epochs = 5  # number of passes through the training dataset\n",
        "\n",
        "history = model.fit(x_train, y_train,\n",
        "                    epochs=epochs,\n",
        "                    validation_data=(x_test, y_test))"
      ]
    },
    {
      "cell_type": "markdown",
      "id": "t5WfivcOSQ2X",
      "metadata": {
        "id": "t5WfivcOSQ2X"
      },
      "source": [
        "As the model trains, you'll see output for each epoch showing the loss and accuracy for both training and validation sets.\n",
        "\n",
        "What to watch for:\n",
        "\n",
        "\n",
        "*   The training accuracy should increase and loss should decrease over epochs.\n",
        "*   The validation accuracy is the performance on data the model hasn't seen. It may be a bit lower than training accuracy. If it starts dropping or diverging while training accuracy keeps improving, that could indicate overfitting.\n",
        "*   With our simple model and limited epochs, you might see validation accuracy reach around ~90% (just a ballpark for the subset we used).\n",
        "\n",
        "\n",
        "**Rule of thumb for starting epochs and learning rates for MLPs**\n",
        "\n",
        "Starting points:\n",
        "\n",
        "\n",
        "*   Epochs: 5-20 epochs for small datasets (MNIST, toy problems); 50+ for larger datasets.\n",
        "*   Learning rate: 0.001 (Adam's default is good for most cases).\n",
        "\n"
      ]
    },
    {
      "cell_type": "markdown",
      "id": "GnYDVKZKBFhK",
      "metadata": {
        "id": "GnYDVKZKBFhK"
      },
      "source": [
        "### Visualize the Training Process\n",
        "\n",
        "It's useful to visualize the training and validation accuracy over epochs to understand how learning progressed. We stored the training history in the history object. We can retrieve the accuracy and loss values for each epoch from it and plot them.\n",
        "\n",
        "Let's create a simple plot of training vs validation accuracy over the epochs:"
      ]
    },
    {
      "cell_type": "code",
      "execution_count": 10,
      "id": "vRIZMO1GBFrD",
      "metadata": {
        "colab": {
          "base_uri": "https://localhost:8080/",
          "height": 410
        },
        "id": "vRIZMO1GBFrD",
        "outputId": "c25e1666-157c-4a18-ded3-6f3cef38b17a"
      },
      "outputs": [
        {
          "data": {
            "image/png": "[encoded data removed]",
            "text/plain": [
              "<Figure size 600x400 with 1 Axes>"
            ]
          },
          "metadata": {},
          "output_type": "display_data"
        }
      ],
      "source": [
        "import matplotlib.pyplot as plt\n",
        "\n",
        "# Extract accuracy history\n",
        "acc = history.history['accuracy']\n",
        "val_acc = history.history['val_accuracy']\n",
        "epochs_range = range(1, len(acc)+1)\n",
        "\n",
        "# Plot accuracy curves\n",
        "plt.figure(figsize=(6,4))\n",
        "plt.plot(epochs_range, acc, label='Training Accuracy')\n",
        "plt.plot(epochs_range, val_acc, label='Validation Accuracy')\n",
        "plt.title('Accuracy over Epochs')\n",
        "plt.xlabel('Epoch')\n",
        "plt.ylabel('Accuracy')\n",
        "plt.legend()\n",
        "plt.show()"
      ]
    },
    {
      "cell_type": "markdown",
      "id": "u5YRFe71BF09",
      "metadata": {
        "id": "u5YRFe71BF09"
      },
      "source": [
        "After running this, you should see a line plot. Ideally, both training and validation accuracy improve and then level off. If they stay close together, it means the model generalizes well on this task. If there's a big gap (training much higher than validation), it suggests overfitting.\n",
        "\n",
        "Note: With our small network and limited data, overfitting shouldn't be severe, but if you increased the network size or training epochs, you might start to see it."
      ]
    },
    {
      "cell_type": "markdown",
      "id": "tsq6YRVxSsGl",
      "metadata": {
        "id": "tsq6YRVxSsGl"
      },
      "source": [
        "### Evaluate the Model and Make Predictions\n",
        "\n",
        "Finally, let's see how our trained model performs on the test set in terms of overall accuracy, and then inspect some individual predictions.\n",
        "\n",
        "First, we can get the overall accuracy on the test set using `model.evaluate`:"
      ]
    },
    {
      "cell_type": "code",
      "execution_count": 11,
      "id": "TcYKIRVWBF-D",
      "metadata": {
        "colab": {
          "base_uri": "https://localhost:8080/"
        },
        "id": "TcYKIRVWBF-D",
        "outputId": "4da749e0-2bbf-4e91-bdae-c8ec9b1978d1"
      },
      "outputs": [
        {
          "name": "stdout",
          "output_type": "stream",
          "text": [
            "\u001b[1m32/32\u001b[0m \u001b[32m━━━━━━━━━━━━━━━━━━━━\u001b[0m\u001b[37m\u001b[0m \u001b[1m0s\u001b[0m 3ms/step - accuracy: 0.9388 - loss: 0.2473\n",
            "Test accuracy: 0.9210\n"
          ]
        }
      ],
      "source": [
        "# Evaluate the model on the test data\n",
        "test_loss, test_accuracy = model.evaluate(x_test, y_test)\n",
        "print(f\"Test accuracy: {test_accuracy:.4f}\")"
      ]
    },
    {
      "cell_type": "markdown",
      "id": "HkjfFUDeBGG6",
      "metadata": {
        "id": "HkjfFUDeBGG6"
      },
      "source": [
        "This will print the test accuracy (and loss). It gives a summary of how well the model is doing on unseen data.\n",
        "\n",
        "Next, let's make some predictions on individual samples and compare with the true labels. We'll:\n",
        "\n",
        "\n",
        "*   Pick a few random test images.\n",
        "*   Use `model.predict` on those images to get the probability distribution over classes.\n",
        "*   Take the argmax of the prediction to get the predicted digit.\n",
        "*   Display the images with both the True label and Predicted label.\n",
        "\n"
      ]
    },
    {
      "cell_type": "code",
      "execution_count": 12,
      "id": "YLbDqC5PBGPh",
      "metadata": {
        "colab": {
          "base_uri": "https://localhost:8080/",
          "height": 224
        },
        "id": "YLbDqC5PBGPh",
        "outputId": "f884ec15-4d0f-43a7-a39c-570f251ed64c"
      },
      "outputs": [
        {
          "name": "stdout",
          "output_type": "stream",
          "text": [
            "\u001b[1m32/32\u001b[0m \u001b[32m━━━━━━━━━━━━━━━━━━━━\u001b[0m\u001b[37m\u001b[0m \u001b[1m0s\u001b[0m 4ms/step\n"
          ]
        },
        {
          "data": {
            "image/png": "[encoded data removed]",
            "text/plain": [
              "<Figure size 1000x200 with 5 Axes>"
            ]
          },
          "metadata": {},
          "output_type": "display_data"
        }
      ],
      "source": [
        "import numpy as np\n",
        "\n",
        "# Get model predictions for the test set\n",
        "pred_probs = model.predict(x_test)              # predicted probabilities for each class (shape: [num_test, 10])\n",
        "pred_labels = np.argmax(pred_probs, axis=1)     # convert probabilities to class with highest probability\n",
        "\n",
        "# Select a few random test samples to visualize\n",
        "num_samples_to_show = 5\n",
        "indices = np.random.choice(len(x_test), num_samples_to_show, replace=False)\n",
        "\n",
        "plt.figure(figsize=(10, 2))\n",
        "for i, idx in enumerate(indices):\n",
        "    img = x_test[idx].reshape(28, 28)  # reshape back to 28x28 image for display\n",
        "    true_label = y_test[idx]\n",
        "    predicted_label = pred_labels[idx]\n",
        "\n",
        "    # Plot the image\n",
        "    plt.subplot(1, num_samples_to_show, i+1)\n",
        "    plt.imshow(img, cmap='gray')\n",
        "    plt.axis('off')  # no axis for cleaner look\n",
        "\n",
        "    # Title with True and Predicted labels\n",
        "    plt.title(f\"True: {true_label}\\nPred: {predicted_label}\", fontdict={'fontsize': 10})\n",
        "plt.show()"
      ]
    },
    {
      "cell_type": "markdown",
      "id": "o1RSRh5EBGbf",
      "metadata": {
        "id": "o1RSRh5EBGbf"
      },
      "source": [
        "After running the above:\n",
        "\n",
        "\n",
        "*   You should see 5 random digit images from the test set.\n",
        "*   Each image title shows \"True: X, Pred: Y\" where X is the actual label and Y is what our model predicted.\n",
        "*   Ideally most (or all) of these predictions are correct if our model learned well. If some are wrong, that's a good point to analyze: maybe the digit was ambiguous or our model made a mistake."
      ]
    },
    {
      "cell_type": "markdown",
      "id": "Jqt_wY_vTh-r",
      "metadata": {
        "id": "Jqt_wY_vTh-r"
      },
      "source": [
        "## Summary\n",
        "\n",
        "We've built and trained our first multi-layer perceptron on a real dataset! Here's a summary of what we did:\n",
        "\n",
        "\n",
        "*   Defined a simple neural network with one hidden layer.\n",
        "*   Trained it on a subset of MNIST data to classify digits.\n",
        "*   Monitored training through accuracy curves.\n",
        "*   Tested the model and visualized predictions.\n"
      ]
    },
    {
      "cell_type": "code",
      "execution_count": 12,
      "id": "lGNShm0tBHLL",
      "metadata": {
        "id": "lGNShm0tBHLL"
      },
      "outputs": [],
      "source": []
    }
  ],
  "metadata": {
    "colab": {
      "provenance": []
    },
    "kernelspec": {
      "display_name": "Python 3",
      "name": "python3"
    },
    "language_info": {
      "name": "python"
    }
  },
  "nbformat": 4,
  "nbformat_minor": 5
}
